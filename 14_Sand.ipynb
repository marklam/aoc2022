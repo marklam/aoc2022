{
 "cells": [
  {
   "cell_type": "code",
   "execution_count": 16,
   "metadata": {
    "dotnet_interactive": {
     "language": "fsharp"
    },
    "polyglot_notebook": {
     "kernelName": "fsharp"
    }
   },
   "outputs": [],
   "source": [
    "let parseLine (line : string) = \n",
    "    line.Split(\" -> \")\n",
    "    |> Array.map (\n",
    "        fun coords -> \n",
    "            let xy = coords.Split(',', 2)\n",
    "            int xy[0], int xy[1]\n",
    "            )\n",
    "\n",
    "let steps a b =\n",
    "    if a < b then\n",
    "        [ a .. b ]\n",
    "    else \n",
    "        [ b .. a ]\n",
    "\n",
    "let connect (x1,y1) (x2,y2) =\n",
    "    if x1 = x2 then\n",
    "        steps y1 y2 |> Seq.map (fun y -> x1,y)\n",
    "    else\n",
    "        steps x1 x2 |> Seq.map (fun x -> x,y1)\n",
    "\n",
    "let linePoints coords =\n",
    "    coords\n",
    "    |> Array.pairwise\n",
    "    |> Seq.collect (fun (a, b) -> connect a b)            \n",
    "    |> Set.ofSeq\n",
    "\n",
    "type Cell = | Rock | Sand    \n",
    "\n",
    "let parseBoard lines =\n",
    "    lines\n",
    "    |> Seq.map parseLine\n",
    "    |> Seq.map linePoints\n",
    "    |> Set.unionMany\n",
    "    |> Seq.map (fun pos -> pos, Rock)\n",
    "    |> Map.ofSeq\n",
    "\n",
    "let rec trackFall outOfBounds (x,y) (board : Map<int*int, Cell>) =\n",
    "    if y = outOfBounds then\n",
    "        None\n",
    "    else\n",
    "        match board |> Map.tryFind (x, y+1) with\n",
    "        | None ->\n",
    "            trackFall outOfBounds (x, y+1) board\n",
    "        | Some _ ->\n",
    "            match board |> Map.tryFind (x-1, y+1) with\n",
    "            | None -> trackFall outOfBounds (x-1, y+1) board\n",
    "            | _ ->\n",
    "                match board |> Map.tryFind (x+1, y+1) with\n",
    "                | None -> trackFall outOfBounds (x+1, y+1) board\n",
    "                | _ -> Some ((), board |> Map.add (x,y) Sand)\n",
    "\n",
    "let countSand board = \n",
    "    let outOfBounds = 1 + (board |> Map.keys |> Seq.map snd |> Seq.max)\n",
    "\n",
    "    board\n",
    "    |> Seq.unfold (fun b -> trackFall outOfBounds (500,0) b)\n",
    "    |> Seq.length\n",
    "\n"
   ]
  },
  {
   "cell_type": "code",
   "execution_count": 15,
   "metadata": {
    "dotnet_interactive": {
     "language": "fsharp"
    },
    "polyglot_notebook": {
     "kernelName": "fsharp"
    }
   },
   "outputs": [
    {
     "data": {
      "text/html": [
       "<table><thead><tr><th><i>index</i></th><th>Item1</th><th>Item2</th></tr></thead><tbody><tr><td>0</td><td><div class=\"dni-plaintext\"><pre>502</pre></div></td><td><div class=\"dni-plaintext\"><pre>4</pre></div></td></tr><tr><td>1</td><td><div class=\"dni-plaintext\"><pre>503</pre></div></td><td><div class=\"dni-plaintext\"><pre>4</pre></div></td></tr><tr><td>2</td><td><div class=\"dni-plaintext\"><pre>502</pre></div></td><td><div class=\"dni-plaintext\"><pre>4</pre></div></td></tr><tr><td>3</td><td><div class=\"dni-plaintext\"><pre>502</pre></div></td><td><div class=\"dni-plaintext\"><pre>5</pre></div></td></tr><tr><td>4</td><td><div class=\"dni-plaintext\"><pre>502</pre></div></td><td><div class=\"dni-plaintext\"><pre>6</pre></div></td></tr><tr><td>5</td><td><div class=\"dni-plaintext\"><pre>502</pre></div></td><td><div class=\"dni-plaintext\"><pre>7</pre></div></td></tr><tr><td>6</td><td><div class=\"dni-plaintext\"><pre>502</pre></div></td><td><div class=\"dni-plaintext\"><pre>8</pre></div></td></tr><tr><td>7</td><td><div class=\"dni-plaintext\"><pre>502</pre></div></td><td><div class=\"dni-plaintext\"><pre>9</pre></div></td></tr><tr><td>8</td><td><div class=\"dni-plaintext\"><pre>494</pre></div></td><td><div class=\"dni-plaintext\"><pre>9</pre></div></td></tr><tr><td>9</td><td><div class=\"dni-plaintext\"><pre>495</pre></div></td><td><div class=\"dni-plaintext\"><pre>9</pre></div></td></tr><tr><td>10</td><td><div class=\"dni-plaintext\"><pre>496</pre></div></td><td><div class=\"dni-plaintext\"><pre>9</pre></div></td></tr><tr><td>11</td><td><div class=\"dni-plaintext\"><pre>497</pre></div></td><td><div class=\"dni-plaintext\"><pre>9</pre></div></td></tr><tr><td>12</td><td><div class=\"dni-plaintext\"><pre>498</pre></div></td><td><div class=\"dni-plaintext\"><pre>9</pre></div></td></tr><tr><td>13</td><td><div class=\"dni-plaintext\"><pre>499</pre></div></td><td><div class=\"dni-plaintext\"><pre>9</pre></div></td></tr><tr><td>14</td><td><div class=\"dni-plaintext\"><pre>500</pre></div></td><td><div class=\"dni-plaintext\"><pre>9</pre></div></td></tr><tr><td>15</td><td><div class=\"dni-plaintext\"><pre>501</pre></div></td><td><div class=\"dni-plaintext\"><pre>9</pre></div></td></tr><tr><td>16</td><td><div class=\"dni-plaintext\"><pre>502</pre></div></td><td><div class=\"dni-plaintext\"><pre>9</pre></div></td></tr></tbody></table><style>\r\n",
       ".dni-code-hint {\r\n",
       "    font-style: italic;\r\n",
       "    overflow: hidden;\r\n",
       "    white-space: nowrap;\r\n",
       "}\r\n",
       ".dni-treeview {\r\n",
       "    white-space: nowrap;\r\n",
       "}\r\n",
       ".dni-treeview td {\r\n",
       "    vertical-align: top;\r\n",
       "    text-align: start;\r\n",
       "}\r\n",
       "details.dni-treeview {\r\n",
       "    padding-left: 1em;\r\n",
       "}\r\n",
       "table td {\r\n",
       "    text-align: start;\r\n",
       "}\r\n",
       "table tr { \r\n",
       "    vertical-align: top; \r\n",
       "    margin: 0em 0px;\r\n",
       "}\r\n",
       "table tr td pre \r\n",
       "{ \r\n",
       "    vertical-align: top !important; \r\n",
       "    margin: 0em 0px !important;\r\n",
       "} \r\n",
       "table th {\r\n",
       "    text-align: start;\r\n",
       "}\r\n",
       "</style>"
      ]
     },
     "metadata": {},
     "output_type": "display_data"
    }
   ],
   "source": [
    "parseLine \"503,4 -> 502,4 -> 502,9 -> 494,9\" |> linePoints\n"
   ]
  }
 ],
 "metadata": {
  "kernelspec": {
   "display_name": ".NET (F#)",
   "language": "F#",
   "name": ".net-fsharp"
  },
  "polyglot_notebook": {
   "kernelInfo": {
    "defaultKernelName": "fsharp",
    "items": [
     {
      "aliases": [
       "f#",
       "F#"
      ],
      "languageName": "F#",
      "name": "fsharp"
     },
     {
      "aliases": [
       "frontend"
      ],
      "languageName": null,
      "name": "vscode"
     },
     {
      "aliases": [],
      "languageName": "SQL",
      "name": "sql"
     }
    ]
   }
  }
 },
 "nbformat": 4,
 "nbformat_minor": 2
}

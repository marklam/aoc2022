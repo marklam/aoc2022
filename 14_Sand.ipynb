{
 "cells": [
  {
   "cell_type": "code",
   "execution_count": null,
   "metadata": {
    "dotnet_interactive": {
     "language": "fsharp"
    },
    "polyglot_notebook": {
     "kernelName": "fsharp"
    }
   },
   "outputs": [],
   "source": [
    "let parseLine (line : string) = \n",
    "    line.Split(\" -> \")\n",
    "    |> Array.map (\n",
    "        fun coords -> \n",
    "            let xy = coords.Split(',', 2)\n",
    "            int xy[0], int xy[1]\n",
    "            )\n",
    "\n",
    "let steps a b =\n",
    "    if a < b then\n",
    "        [ a .. b ]\n",
    "    else \n",
    "        [ b .. a ]\n",
    "\n",
    "let connect (x1,y1) (x2,y2) =\n",
    "    if x1 = x2 then\n",
    "        steps y1 y2 |> Seq.map (fun y -> x1,y)\n",
    "    else\n",
    "        steps x1 x2 |> Seq.map (fun x -> x,y1)\n",
    "\n",
    "let linePoints coords =\n",
    "    coords\n",
    "    |> Array.pairwise\n",
    "    |> Seq.collect (fun (a, b) -> connect a b)            \n",
    "    |> Set.ofSeq\n",
    "\n",
    "type Cell = | Rock | Sand    \n",
    "\n",
    "let parseBoard lines =\n",
    "    lines\n",
    "    |> Seq.map parseLine\n",
    "    |> Seq.map linePoints\n",
    "    |> Set.unionMany\n",
    "    |> Seq.map (fun pos -> pos, Rock)\n",
    "    |> Map.ofSeq\n",
    "\n",
    "let rec trackFall outOfBounds (x,y) (board : Map<int*int, Cell>) =\n",
    "    if y = outOfBounds then\n",
    "        None\n",
    "    else\n",
    "        match board |> Map.tryFind (x, y+1) with\n",
    "        | None ->\n",
    "            trackFall outOfBounds (x, y+1) board\n",
    "        | Some _ ->\n",
    "            match board |> Map.tryFind (x-1, y+1) with\n",
    "            | None -> trackFall outOfBounds (x-1, y+1) board\n",
    "            | _ ->\n",
    "                match board |> Map.tryFind (x+1, y+1) with\n",
    "                | None -> trackFall outOfBounds (x+1, y+1) board\n",
    "                | _ -> Some ((), board |> Map.add (x,y) Sand)\n",
    "\n",
    "let countSand board = \n",
    "    let outOfBounds = 1 + (board |> Map.keys |> Seq.map snd |> Seq.max)\n",
    "\n",
    "    board\n",
    "    |> Seq.unfold (fun b -> trackFall outOfBounds (500,0) b)\n",
    "    |> Seq.length\n",
    "\n"
   ]
  },
  {
   "cell_type": "code",
   "execution_count": null,
   "metadata": {
    "dotnet_interactive": {
     "language": "fsharp"
    },
    "polyglot_notebook": {
     "kernelName": "fsharp"
    }
   },
   "outputs": [],
   "source": [
    "#r \"nuget: FsUnit\"\n",
    "\n",
    "open FsUnitTyped\n",
    "\n",
    "let testBoard = \n",
    "    parseBoard [ \"498,4 -> 498,6 -> 496,6\"; \"503,4 -> 502,4 -> 502,9 -> 494,9\" ]\n",
    "\n",
    "testBoard |> countSand |> shouldEqual 24"
   ]
  },
  {
   "cell_type": "code",
   "execution_count": null,
   "metadata": {
    "dotnet_interactive": {
     "language": "fsharp"
    },
    "polyglot_notebook": {
     "kernelName": "fsharp"
    }
   },
   "outputs": [],
   "source": [
    "open System.IO\n",
    "\n",
    "let sourcePath = Path.Combine(__SOURCE_DIRECTORY__, \"input_14.txt\")\n",
    "let board = \n",
    "    File.ReadAllLines(sourcePath)\n",
    "    |> parseBoard\n",
    "\n",
    "let sand = countSand board"
   ]
  },
  {
   "cell_type": "code",
   "execution_count": null,
   "metadata": {
    "dotnet_interactive": {
     "language": "fsharp"
    },
    "polyglot_notebook": {
     "kernelName": "fsharp"
    }
   },
   "outputs": [],
   "source": [
    "printfn \"Sand count %d\" sand"
   ]
  },
  {
   "attachments": {},
   "cell_type": "markdown",
   "metadata": {
    "dotnet_interactive": {
     "language": "fsharp"
    },
    "polyglot_notebook": {
     "kernelName": "fsharp"
    }
   },
   "source": [
    "## Part 2"
   ]
  },
  {
   "cell_type": "code",
   "execution_count": null,
   "metadata": {
    "dotnet_interactive": {
     "language": "fsharp"
    },
    "polyglot_notebook": {
     "kernelName": "fsharp"
    }
   },
   "outputs": [],
   "source": [
    "let rec trackFall2 getItem (x,y) (board : Map<int*int, Cell>) =\n",
    "    match getItem (x, y+1) with\n",
    "    | None ->\n",
    "        trackFall2 getItem (x, y+1) board\n",
    "    | Some _ ->\n",
    "        match getItem (x-1, y+1) with\n",
    "        | None -> trackFall2 getItem (x-1, y+1) board\n",
    "        | _ ->\n",
    "            match getItem (x+1, y+1) with\n",
    "            | None -> trackFall2 getItem (x+1, y+1) board\n",
    "            | _ -> board |> Map.add (x,y) Sand\n",
    "\n",
    "let countSand2 board = \n",
    "    let outOfBounds = 2 + (board |> Map.keys |> Seq.map snd |> Seq.max)\n",
    "    let getItem board (x, y) = \n",
    "        if y = outOfBounds then \n",
    "            Some Rock\n",
    "        else \n",
    "            board |> Map.tryFind (x, y)\n",
    "\n",
    "    let fallen =\n",
    "        board\n",
    "        |> Seq.unfold (\n",
    "            fun b -> \n",
    "                let newB = trackFall2 (getItem b) (500,0) b\n",
    "                match newB |> Map.tryFind (500,0) with\n",
    "                | Some Sand -> None\n",
    "                | _ -> Some ((), newB)\n",
    "            )\n",
    "        |> Seq.length\n",
    "    \n",
    "    fallen + 1"
   ]
  },
  {
   "cell_type": "code",
   "execution_count": null,
   "metadata": {
    "dotnet_interactive": {
     "language": "fsharp"
    },
    "polyglot_notebook": {
     "kernelName": "fsharp"
    }
   },
   "outputs": [],
   "source": [
    "countSand2 testBoard |> shouldEqual 93"
   ]
  },
  {
   "cell_type": "code",
   "execution_count": null,
   "metadata": {
    "dotnet_interactive": {
     "language": "fsharp"
    },
    "polyglot_notebook": {
     "kernelName": "fsharp"
    }
   },
   "outputs": [],
   "source": [
    "let result = countSand2 board\n",
    "printf \"%d sand at rest\" result"
   ]
  }
 ],
 "metadata": {
  "kernelspec": {
   "display_name": ".NET (F#)",
   "language": "F#",
   "name": ".net-fsharp"
  },
  "polyglot_notebook": {
   "kernelInfo": {
    "defaultKernelName": "fsharp",
    "items": [
     {
      "aliases": [
       "f#",
       "F#"
      ],
      "languageName": "F#",
      "name": "fsharp"
     },
     {
      "aliases": [
       "frontend"
      ],
      "languageName": null,
      "name": "vscode"
     },
     {
      "aliases": [],
      "languageName": "SQL",
      "name": "sql"
     }
    ]
   }
  }
 },
 "nbformat": 4,
 "nbformat_minor": 2
}

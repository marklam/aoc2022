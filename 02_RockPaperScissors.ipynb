{
 "cells": [
  {
   "cell_type": "code",
   "execution_count": 1,
   "metadata": {
    "dotnet_interactive": {
     "language": "fsharp"
    },
    "vscode": {
     "languageId": "dotnet-interactive.fsharp"
    }
   },
   "outputs": [],
   "source": [
    "type Shape = | Rock | Paper | Scissors\n",
    "type Match = { OpponentMove : Shape; MyMove : Shape }\n",
    "\n",
    "let scoreMatch m =\n",
    "    let moveScore =\n",
    "        match m.MyMove with\n",
    "        | Rock -> 1\n",
    "        | Paper -> 2\n",
    "        | Scissors -> 3\n",
    "        \n",
    "    let resultScore =\n",
    "        match m.MyMove, m.OpponentMove  with\n",
    "        | Rock, Scissors\n",
    "        | Paper, Rock\n",
    "        | Scissors, Paper ->\n",
    "            6\n",
    "        | x,y  when x = y -> \n",
    "            3\n",
    "        | _,_ -> \n",
    "            0\n",
    "\n",
    "    moveScore + resultScore\n"
   ]
  },
  {
   "cell_type": "code",
   "execution_count": 2,
   "metadata": {
    "dotnet_interactive": {
     "language": "fsharp"
    },
    "vscode": {
     "languageId": "dotnet-interactive.fsharp"
    }
   },
   "outputs": [],
   "source": [
    "let opponentMoves =\n",
    "    [ \n",
    "        (\"A\", Rock)\n",
    "        (\"B\", Paper)\n",
    "        (\"C\", Scissors)\n",
    "    ] \n",
    "    |> Map.ofList\n",
    "\n",
    "let myMoves = \n",
    "    [ \n",
    "        (\"X\", Rock)\n",
    "        (\"Y\", Paper)\n",
    "        (\"Z\", Scissors)\n",
    "    ] \n",
    "    |> Map.ofList\n",
    "\n",
    "let interpretLine (s : string) =\n",
    "    let moves = s.Split(\" \")\n",
    "    {\n",
    "        OpponentMove = opponentMoves[moves[0]]\n",
    "        MyMove = myMoves[moves[1]]\n",
    "    }\n"
   ]
  },
  {
   "cell_type": "code",
   "execution_count": 3,
   "metadata": {
    "dotnet_interactive": {
     "language": "fsharp"
    },
    "vscode": {
     "languageId": "dotnet-interactive.fsharp"
    }
   },
   "outputs": [
    {
     "data": {
      "text/html": [
       "<div><div></div><div></div><div><strong>Installed Packages</strong><ul><li><span>FsUnit, 5.1.0</span></li></ul></div></div>"
      ]
     },
     "metadata": {},
     "output_type": "display_data"
    }
   ],
   "source": [
    "#r \"nuget:FsUnit\"\n",
    "open FsUnitTyped\n",
    "\n",
    "interpretLine \"A Y\" |> scoreMatch |> shouldEqual 8\n",
    "interpretLine \"B X\" |> scoreMatch |> shouldEqual 1\n",
    "interpretLine \"C Z\" |> scoreMatch |> shouldEqual 6"
   ]
  },
  {
   "cell_type": "code",
   "execution_count": 4,
   "metadata": {
    "dotnet_interactive": {
     "language": "fsharp"
    },
    "polyglot_notebook": {
     "language": "fsharp"
    },
    "vscode": {
     "languageId": "dotnet-interactive.fsharp"
    }
   },
   "outputs": [],
   "source": [
    "open System.IO\n",
    "\n",
    "let sourcePath = Path.Combine(__SOURCE_DIRECTORY__, \"input_02.txt\")\n",
    "\n",
    "let strategy = File.ReadAllLines(sourcePath)\n",
    "\n",
    "let strategyScore =\n",
    "    strategy\n",
    "    |> Array.sumBy (interpretLine >> scoreMatch)\n"
   ]
  },
  {
   "cell_type": "code",
   "execution_count": null,
   "metadata": {
    "dotnet_interactive": {
     "language": "fsharp"
    },
    "vscode": {
     "languageId": "dotnet-interactive.fsharp"
    }
   },
   "outputs": [],
   "source": [
    "printfn \"Score %d\" strategyScore"
   ]
  },
  {
   "cell_type": "markdown",
   "metadata": {},
   "source": [
    "## Part 2"
   ]
  },
  {
   "cell_type": "code",
   "execution_count": 20,
   "metadata": {
    "dotnet_interactive": {
     "language": "fsharp"
    },
    "vscode": {
     "languageId": "dotnet-interactive.fsharp"
    }
   },
   "outputs": [],
   "source": [
    "type Outcome = | Win | Lose | Draw\n",
    "\n",
    "let outcomes = \n",
    "    [ \n",
    "        (\"X\", Lose)\n",
    "        (\"Y\", Draw)\n",
    "        (\"Z\", Win)\n",
    "    ] \n",
    "    |> Map.ofList\n",
    "\n",
    "let planMove opponentMove outcome =\n",
    "    match outcome, opponentMove with\n",
    "    | Draw, _ -> opponentMove\n",
    "    | Win, Paper -> Scissors\n",
    "    | Win, Scissors -> Rock\n",
    "    | Win, Rock -> Paper\n",
    "    | Lose, Paper -> Rock\n",
    "    | Lose, Scissors -> Paper\n",
    "    | Lose, Rock -> Scissors\n",
    "\n",
    "let reinterpretLine (s : string) =\n",
    "    let moves = s.Split(\" \")\n",
    "    let opponentMove= opponentMoves[moves[0]]\n",
    "    let outcome = outcomes[moves[1]]\n",
    "    let myMove = planMove opponentMove outcome\n",
    "    {\n",
    "        OpponentMove = opponentMove\n",
    "        MyMove = myMove\n",
    "    }\n"
   ]
  },
  {
   "cell_type": "code",
   "execution_count": 21,
   "metadata": {
    "dotnet_interactive": {
     "language": "fsharp"
    },
    "vscode": {
     "languageId": "dotnet-interactive.fsharp"
    }
   },
   "outputs": [],
   "source": [
    "reinterpretLine \"A Y\" |> scoreMatch |> shouldEqual 4\n",
    "reinterpretLine \"B X\" |> scoreMatch |> shouldEqual 1\n",
    "reinterpretLine \"C Z\" |> scoreMatch |> shouldEqual 7"
   ]
  },
  {
   "cell_type": "code",
   "execution_count": 22,
   "metadata": {
    "dotnet_interactive": {
     "language": "fsharp"
    },
    "vscode": {
     "languageId": "dotnet-interactive.fsharp"
    }
   },
   "outputs": [],
   "source": [
    "let realStrategyScore =\n",
    "    strategy\n",
    "    |> Array.sumBy (reinterpretLine >> scoreMatch)"
   ]
  },
  {
   "cell_type": "code",
   "execution_count": null,
   "metadata": {
    "dotnet_interactive": {
     "language": "fsharp"
    },
    "vscode": {
     "languageId": "dotnet-interactive.fsharp"
    }
   },
   "outputs": [],
   "source": [
    "printfn \"Score %d\" realStrategyScore"
   ]
  }
 ],
 "metadata": {
  "kernelspec": {
   "display_name": ".NET (F#)",
   "language": "F#",
   "name": ".net-fsharp"
  },
  "language_info": {
   "name": "F#"
  }
 },
 "nbformat": 4,
 "nbformat_minor": 2
}

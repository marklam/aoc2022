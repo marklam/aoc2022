{
 "cells": [
  {
   "cell_type": "code",
   "execution_count": 44,
   "metadata": {
    "dotnet_interactive": {
     "language": "fsharp"
    },
    "polyglot_notebook": {
     "language": "fsharp"
    },
    "vscode": {
     "languageId": "dotnet-interactive.fsharp"
    }
   },
   "outputs": [],
   "source": [
    "type FileEntry = \n",
    "    { \n",
    "        Name : string\n",
    "        Size : int \n",
    "        }\n",
    "\n",
    "type DirectoryEntry = \n",
    "    { \n",
    "        Name : string\n",
    "        Parent : DirectoryEntry option\n",
    "        Files : ResizeArray<FileEntry>\n",
    "        Subdirectories :  ResizeArray<DirectoryEntry>\n",
    "    }\n",
    "\n",
    "module FileSystem =\n",
    "    let getEmpty() = { Name = \"/\"; Parent = None; Files = ResizeArray(); Subdirectories = ResizeArray() }\n",
    "    \n",
    "    let addFile (d : DirectoryEntry) f = \n",
    "        d.Files.Add f\n",
    "    \n",
    "    let addSubdirectory (d: DirectoryEntry) name =\n",
    "        let sd = { Name = name; Parent = Some d; Files = ResizeArray(); Subdirectories = ResizeArray() }\n",
    "        d.Subdirectories.Add sd\n",
    "        sd\n",
    "\n",
    "    let rec findRoot (d : DirectoryEntry) =\n",
    "        match d.Parent with\n",
    "        | None -> d\n",
    "        | Some p -> findRoot p\n",
    "\n",
    "    let rec treeSize (d : DirectoryEntry) =\n",
    "        let filesSize = \n",
    "            d.Files \n",
    "            |> Seq.sumBy (fun f -> f.Size)\n",
    "\n",
    "        let subdirSizes = \n",
    "            d.Subdirectories \n",
    "            |> List.ofSeq\n",
    "            |> List.map treeSize\n",
    "\n",
    "        let subDirSize = subdirSizes |> List.sum\n",
    "        filesSize + subDirSize\n",
    "\n",
    "    let rec allFiles (d : DirectoryEntry) =\n",
    "        Seq.append d.Files (d.Subdirectories |> Seq.collect allFiles)\n",
    "\n",
    "    let rec allDirectories (d : DirectoryEntry) =\n",
    "        d :: (d.Subdirectories |> Seq.collect allDirectories |> List.ofSeq)\n"
   ]
  },
  {
   "cell_type": "code",
   "execution_count": 45,
   "metadata": {
    "dotnet_interactive": {
     "language": "fsharp"
    },
    "vscode": {
     "languageId": "dotnet-interactive.fsharp"
    }
   },
   "outputs": [],
   "source": [
    "let nextLineAndRest (text : string) = \n",
    "    let splitText = text.Split([|'\\r';'\\n'|], 2, StringSplitOptions.RemoveEmptyEntries)\n",
    "    if splitText.Length <= 1 then\n",
    "        text, \"\"\n",
    "    else\n",
    "        splitText[0], splitText[1]\n",
    "\n",
    "let rec processListing (cwd : DirectoryEntry) (text : string) =\n",
    "    if text <> \"\" then\n",
    "        let thisLine, rest = nextLineAndRest text\n",
    "        if thisLine.StartsWith \"$\" then\n",
    "            processPrompt cwd text\n",
    "        elif thisLine.StartsWith \"dir\" then\n",
    "            // we'll add subdirectories when we enter them\n",
    "            processListing cwd rest\n",
    "        else\n",
    "            let fileBits = thisLine.Split ' '\n",
    "            FileSystem.addFile cwd { Name = fileBits[1]; Size = int fileBits[0] }\n",
    "            processListing cwd rest\n",
    "\n",
    "and processPrompt (cwd : DirectoryEntry) (text : string) =\n",
    "    if text <> \"\" then\n",
    "        let thisLine, rest = nextLineAndRest text\n",
    "        \n",
    "        if thisLine.StartsWith \"$ cd\" then\n",
    "            let name = (thisLine.Split ' ')[2]\n",
    "            if name = \"..\" then\n",
    "                match cwd.Parent with\n",
    "                | None -> failwith \"Cannot go up from root\"\n",
    "                | Some p -> processPrompt p rest\n",
    "            elif name = \"/\" then\n",
    "                let d = FileSystem.findRoot cwd\n",
    "                processPrompt d rest\n",
    "            else\n",
    "                let sd = FileSystem.addSubdirectory cwd name\n",
    "                processPrompt sd rest\n",
    "        elif thisLine.StartsWith \"$ ls\" then\n",
    "            processListing cwd rest\n",
    "        else\n",
    "            failwith $\"Expected a command, got '{thisLine}'\"\n"
   ]
  },
  {
   "cell_type": "code",
   "execution_count": null,
   "metadata": {
    "dotnet_interactive": {
     "language": "fsharp"
    },
    "vscode": {
     "languageId": "dotnet-interactive.fsharp"
    }
   },
   "outputs": [],
   "source": [
    "let allDirectorySizes root =\n",
    "    FileSystem.allDirectories root\n",
    "    |> List.map (\n",
    "        fun d ->\n",
    "            d.Name, FileSystem.treeSize d\n",
    "    )"
   ]
  },
  {
   "cell_type": "code",
   "execution_count": 52,
   "metadata": {
    "dotnet_interactive": {
     "language": "fsharp"
    },
    "vscode": {
     "languageId": "dotnet-interactive.fsharp"
    }
   },
   "outputs": [
    {
     "data": {
      "text/html": [
       "<div><div></div><div></div><div><strong>Installed Packages</strong><ul><li><span>FsUnit, 5.1.0</span></li></ul></div></div>"
      ]
     },
     "metadata": {},
     "output_type": "display_data"
    }
   ],
   "source": [
    "#r \"nuget: FsUnit\"\n",
    "open FsUnitTyped\n",
    "\n",
    "let testInput = \"\"\"$ cd /\n",
    "$ ls\n",
    "dir a\n",
    "14848514 b.txt\n",
    "8504156 c.dat\n",
    "dir d\n",
    "$ cd a\n",
    "$ ls\n",
    "dir e\n",
    "29116 f\n",
    "2557 g\n",
    "62596 h.lst\n",
    "$ cd e\n",
    "$ ls\n",
    "584 i\n",
    "$ cd ..\n",
    "$ cd ..\n",
    "$ cd d\n",
    "$ ls\n",
    "4060174 j\n",
    "8033020 d.log\n",
    "5626152 d.ext\n",
    "7214296 k\n",
    "\"\"\"\n",
    "\n",
    "let root = FileSystem.getEmpty()\n",
    "processPrompt root testInput\n",
    "\n",
    "let testSizes = \n",
    "    allDirectorySizes root \n",
    "    |> Map.ofList\n",
    "\n",
    "testSizes[\"e\"] |> shouldEqual 584\n",
    "testSizes[\"a\"] |> shouldEqual 94853 \n",
    "testSizes[\"d\"] |> shouldEqual 24933642\n",
    "testSizes[\"/\"] |> shouldEqual 48381165\n",
    "\n",
    "let totalSmall =\n",
    "    testSizes\n",
    "    |> Map.toSeq\n",
    "    |> Seq.filter (fun (_,s) -> s < 100000)\n",
    "    |> Seq.sumBy snd\n",
    "\n",
    "totalSmall |> shouldEqual 95437\n"
   ]
  },
  {
   "cell_type": "code",
   "execution_count": null,
   "metadata": {
    "dotnet_interactive": {
     "language": "fsharp"
    },
    "vscode": {
     "languageId": "dotnet-interactive.fsharp"
    }
   },
   "outputs": [],
   "source": [
    "open System.IO\n",
    "\n",
    "let sourcePath = Path.Combine(__SOURCE_DIRECTORY__, \"input_07.txt\")\n",
    "let listing = File.ReadAllText(sourcePath)\n",
    "\n",
    "let root = FileSystem.getEmpty()\n",
    "processPrompt root listing"
   ]
  }
 ],
 "metadata": {
  "kernelspec": {
   "display_name": ".NET (F#)",
   "language": "F#",
   "name": ".net-fsharp"
  },
  "language_info": {
   "name": "F#"
  }
 },
 "nbformat": 4,
 "nbformat_minor": 2
}

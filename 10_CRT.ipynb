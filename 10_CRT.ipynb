{
 "cells": [
  {
   "cell_type": "code",
   "execution_count": null,
   "metadata": {
    "dotnet_interactive": {
     "language": "fsharp"
    },
    "polyglot_notebook": {
     "kernelName": "fsharp"
    }
   },
   "outputs": [],
   "source": [
    "type Fetch = \n",
    "    | Nop \n",
    "    | AddX \n",
    "    | Value of int\n",
    "\n",
    "let parseLine (s : string) =\n",
    "    if s.StartsWith(\"addx\") then [| AddX; Value (int (s.Substring 5)) |]\n",
    "    elif s = \"noop\" then [|Nop|]\n",
    "    else failwith \"Bad opcode\"\n",
    "\n",
    "let parseCode lines =\n",
    "    lines\n",
    "    |> Array.collect parseLine\n",
    "\n",
    "let apply (prevFetch : Fetch, x : int) (fetch :  Fetch) =\n",
    "    match prevFetch, fetch with\n",
    "    | AddX, Value v -> (fetch, v + x)\n",
    "    | AddX, _ -> failwith \"Bad add instruction\"\n",
    "    | _, _ -> (fetch, x)\n",
    "\n",
    "let run instructions =\n",
    "    instructions\n",
    "    |> Array.scan apply (Nop, 1)\n",
    "    |> Array.map snd\n",
    "\n",
    "let signalStrength (output: int[]) t =\n",
    "    t * output[t-1]"
   ]
  },
  {
   "cell_type": "code",
   "execution_count": null,
   "metadata": {
    "dotnet_interactive": {
     "language": "fsharp"
    },
    "polyglot_notebook": {
     "kernelName": "fsharp"
    }
   },
   "outputs": [],
   "source": [
    "#r \"nuget: FsUnit\"\n",
    "\n",
    "open FsUnitTyped\n",
    "\n",
    "let testProgram =\n",
    "    [|\n",
    "        \"addx 15\"\n",
    "        \"addx -11\"\n",
    "        \"addx 6\"\n",
    "        \"addx -3\"\n",
    "        \"addx 5\"\n",
    "        \"addx -1\"\n",
    "        \"addx -8\"\n",
    "        \"addx 13\"\n",
    "        \"addx 4\"\n",
    "        \"noop\"\n",
    "        \"addx -1\"\n",
    "        \"addx 5\"\n",
    "        \"addx -1\"\n",
    "        \"addx 5\"\n",
    "        \"addx -1\"\n",
    "        \"addx 5\"\n",
    "        \"addx -1\"\n",
    "        \"addx 5\"\n",
    "        \"addx -1\"\n",
    "        \"addx -35\"\n",
    "        \"addx 1\"\n",
    "        \"addx 24\"\n",
    "        \"addx -19\"\n",
    "        \"addx 1\"\n",
    "        \"addx 16\"\n",
    "        \"addx -11\"\n",
    "        \"noop\"\n",
    "        \"noop\"\n",
    "        \"addx 21\"\n",
    "        \"addx -15\"\n",
    "        \"noop\"\n",
    "        \"noop\"\n",
    "        \"addx -3\"\n",
    "        \"addx 9\"\n",
    "        \"addx 1\"\n",
    "        \"addx -3\"\n",
    "        \"addx 8\"\n",
    "        \"addx 1\"\n",
    "        \"addx 5\"\n",
    "        \"noop\"\n",
    "        \"noop\"\n",
    "        \"noop\"\n",
    "        \"noop\"\n",
    "        \"noop\"\n",
    "        \"addx -36\"\n",
    "        \"noop\"\n",
    "        \"addx 1\"\n",
    "        \"addx 7\"\n",
    "        \"noop\"\n",
    "        \"noop\"\n",
    "        \"noop\"\n",
    "        \"addx 2\"\n",
    "        \"addx 6\"\n",
    "        \"noop\"\n",
    "        \"noop\"\n",
    "        \"noop\"\n",
    "        \"noop\"\n",
    "        \"noop\"\n",
    "        \"addx 1\"\n",
    "        \"noop\"\n",
    "        \"noop\"\n",
    "        \"addx 7\"\n",
    "        \"addx 1\"\n",
    "        \"noop\"\n",
    "        \"addx -13\"\n",
    "        \"addx 13\"\n",
    "        \"addx 7\"\n",
    "        \"noop\"\n",
    "        \"addx 1\"\n",
    "        \"addx -33\"\n",
    "        \"noop\"\n",
    "        \"noop\"\n",
    "        \"noop\"\n",
    "        \"addx 2\"\n",
    "        \"noop\"\n",
    "        \"noop\"\n",
    "        \"noop\"\n",
    "        \"addx 8\"\n",
    "        \"noop\"\n",
    "        \"addx -1\"\n",
    "        \"addx 2\"\n",
    "        \"addx 1\"\n",
    "        \"noop\"\n",
    "        \"addx 17\"\n",
    "        \"addx -9\"\n",
    "        \"addx 1\"\n",
    "        \"addx 1\"\n",
    "        \"addx -3\"\n",
    "        \"addx 11\"\n",
    "        \"noop\"\n",
    "        \"noop\"\n",
    "        \"addx 1\"\n",
    "        \"noop\"\n",
    "        \"addx 1\"\n",
    "        \"noop\"\n",
    "        \"noop\"\n",
    "        \"addx -13\"\n",
    "        \"addx -19\"\n",
    "        \"addx 1\"\n",
    "        \"addx 3\"\n",
    "        \"addx 26\"\n",
    "        \"addx -30\"\n",
    "        \"addx 12\"\n",
    "        \"addx -1\"\n",
    "        \"addx 3\"\n",
    "        \"addx 1\"\n",
    "        \"noop\"\n",
    "        \"noop\"\n",
    "        \"noop\"\n",
    "        \"addx -9\"\n",
    "        \"addx 18\"\n",
    "        \"addx 1\"\n",
    "        \"addx 2\"\n",
    "        \"noop\"\n",
    "        \"noop\"\n",
    "        \"addx 9\"\n",
    "        \"noop\"\n",
    "        \"noop\"\n",
    "        \"noop\"\n",
    "        \"addx -1\"\n",
    "        \"addx 2\"\n",
    "        \"addx -37\"\n",
    "        \"addx 1\"\n",
    "        \"addx 3\"\n",
    "        \"noop\"\n",
    "        \"addx 15\"\n",
    "        \"addx -21\"\n",
    "        \"addx 22\"\n",
    "        \"addx -6\"\n",
    "        \"addx 1\"\n",
    "        \"noop\"\n",
    "        \"addx 2\"\n",
    "        \"addx 1\"\n",
    "        \"noop\"\n",
    "        \"addx -10\"\n",
    "        \"noop\"\n",
    "        \"noop\"\n",
    "        \"addx 20\"\n",
    "        \"addx 1\"\n",
    "        \"addx 2\"\n",
    "        \"addx 2\"\n",
    "        \"addx -6\"\n",
    "        \"addx -11\"\n",
    "        \"noop\"\n",
    "        \"noop\"\n",
    "        \"noop\"\n",
    "    |]\n",
    "\n",
    "let testInstrs = parseCode testProgram\n",
    "let testValues = run testInstrs\n",
    "let testStrengths = [20; 60; 100; 140; 180; 220] |> List.map (signalStrength testValues)\n",
    "testStrengths |> shouldEqual [420; 1140; 1800; 2940; 2880; 3960]\n"
   ]
  },
  {
   "cell_type": "code",
   "execution_count": null,
   "metadata": {
    "dotnet_interactive": {
     "language": "fsharp"
    },
    "polyglot_notebook": {
     "kernelName": "fsharp"
    }
   },
   "outputs": [],
   "source": [
    "open System.IO\n",
    "\n",
    "let sourcePath = Path.Combine(__SOURCE_DIRECTORY__, \"input_10.txt\")\n",
    "let instructions = \n",
    "    File.ReadAllLines(sourcePath)\n",
    "    |> parseCode\n",
    "\n",
    "let values = run instructions\n",
    "\n",
    "let result = \n",
    "    [20; 60; 100; 140; 180; 220] \n",
    "    |> List.sumBy (signalStrength values)\n"
   ]
  },
  {
   "cell_type": "code",
   "execution_count": null,
   "metadata": {
    "dotnet_interactive": {
     "language": "fsharp"
    },
    "polyglot_notebook": {
     "kernelName": "fsharp"
    }
   },
   "outputs": [],
   "source": [
    "printfn \"Total signal strength %d\" result"
   ]
  },
  {
   "attachments": {},
   "cell_type": "markdown",
   "metadata": {
    "dotnet_interactive": {
     "language": "fsharp"
    },
    "polyglot_notebook": {
     "kernelName": "fsharp"
    }
   },
   "source": [
    "## Part 2"
   ]
  },
  {
   "cell_type": "code",
   "execution_count": null,
   "metadata": {
    "dotnet_interactive": {
     "language": "fsharp"
    },
    "polyglot_notebook": {
     "kernelName": "fsharp"
    }
   },
   "outputs": [],
   "source": [
    "let isInSprite xValues t =\n",
    "    let x = xValues |> Array.item (t-1)\n",
    "    abs (x-t) <= 1\n",
    "\n",
    "let render values =\n",
    "    values \n",
    "    |> Array.chunkBySize 40\n",
    "    |> Array.map (fun line ->\n",
    "        line \n",
    "        |> Array.mapi (fun i _ ->\n",
    "            if isInSprite line (i+1) then       \n",
    "                '#' \n",
    "            else \n",
    "                '.'\n",
    "            )\n",
    "        |> String\n",
    "    )\n",
    "    |> String.concat Environment.NewLine"
   ]
  },
  {
   "cell_type": "code",
   "execution_count": null,
   "metadata": {
    "dotnet_interactive": {
     "language": "fsharp"
    },
    "polyglot_notebook": {
     "kernelName": "fsharp"
    }
   },
   "outputs": [],
   "source": [
    "let apply2 (prevFetch : Fetch, _, counter, x : int) (fetch :  Fetch) =\n",
    "    let output = \n",
    "        if abs (counter - x) <= 1  then \n",
    "            '#'\n",
    "        else\n",
    "            '.'\n",
    "    \n",
    "    let newX = \n",
    "        match prevFetch, fetch with\n",
    "        | AddX, Value v -> x + v\n",
    "        | AddX, _ -> failwith \"Bad add instruction\"\n",
    "        | _, _ -> x\n",
    "\n",
    "    let newCounter = (counter + 1) % 40\n",
    "    (fetch, output, newCounter, newX)\n",
    "\n",
    "let draw instructions =\n",
    "    instructions\n",
    "    |> Array.scan apply2 (Nop, '?', 0, 1)\n",
    "    |> Array.map (fun (_,o,_,_)-> o)\n",
    "    |> Array.skip 1\n",
    "\n",
    "let render output =\n",
    "    output\n",
    "    |> Array.chunkBySize 40\n",
    "    |> Array.map String\n",
    "    |> String.concat Environment.NewLine"
   ]
  },
  {
   "cell_type": "code",
   "execution_count": null,
   "metadata": {
    "dotnet_interactive": {
     "language": "fsharp"
    },
    "polyglot_notebook": {
     "kernelName": "fsharp"
    }
   },
   "outputs": [],
   "source": [
    "testInstrs |> Array.take  1 |> draw |> render |> shouldEqual \"#\"\n",
    "testInstrs |> Array.take  2 |> draw |> render |> shouldEqual \"##\"\n",
    "testInstrs |> Array.take  3 |> draw |> render |> shouldEqual \"##.\"\n",
    "testInstrs |> Array.take  4 |> draw |> render |> shouldEqual \"##..\"\n",
    "testInstrs |> Array.take  5 |> draw |> render |> shouldEqual \"##..#\"\n",
    "testInstrs |> Array.take  6 |> draw |> render |> shouldEqual \"##..##\"\n",
    "testInstrs |> Array.take  7 |> draw |> render |> shouldEqual \"##..##.\"\n",
    "testInstrs |> Array.take  8 |> draw |> render |> shouldEqual \"##..##..\"\n",
    "testInstrs |> Array.take  9 |> draw |> render |> shouldEqual \"##..##..#\"\n",
    "testInstrs |> Array.take 10 |> draw |> render |> shouldEqual \"##..##..##\"\n",
    "testInstrs |> draw |> render"
   ]
  },
  {
   "cell_type": "code",
   "execution_count": null,
   "metadata": {
    "dotnet_interactive": {
     "language": "fsharp"
    },
    "polyglot_notebook": {
     "kernelName": "fsharp"
    }
   },
   "outputs": [],
   "source": [
    "instructions |> draw |> render"
   ]
  }
 ],
 "metadata": {
  "kernelspec": {
   "display_name": ".NET (F#)",
   "language": "F#",
   "name": ".net-fsharp"
  },
  "polyglot_notebook": {
   "kernelInfo": {
    "defaultKernelName": "fsharp",
    "items": [
     {
      "aliases": [
       "f#",
       "F#"
      ],
      "languageName": "F#",
      "name": "fsharp"
     },
     {
      "aliases": [
       "powershell"
      ],
      "languageName": "PowerShell",
      "name": "pwsh"
     },
     {
      "aliases": [
       "frontend"
      ],
      "name": "vscode"
     },
     {
      "aliases": [],
      "name": ".NET"
     },
     {
      "aliases": [
       "c#",
       "C#"
      ],
      "languageName": "C#",
      "name": "csharp"
     },
     {
      "aliases": [],
      "languageName": "HTML",
      "name": "html"
     },
     {
      "aliases": [
       "js"
      ],
      "languageName": "JavaScript",
      "name": "javascript"
     },
     {
      "aliases": [],
      "languageName": "KQL",
      "name": "kql"
     },
     {
      "aliases": [],
      "languageName": "Mermaid",
      "name": "mermaid"
     },
     {
      "aliases": [],
      "languageName": "SQL",
      "name": "sql"
     },
     {
      "aliases": [],
      "name": "value"
     },
     {
      "aliases": [],
      "name": "webview"
     }
    ]
   }
  }
 },
 "nbformat": 4,
 "nbformat_minor": 2
}

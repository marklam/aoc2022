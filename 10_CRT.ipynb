{
 "cells": [
  {
   "cell_type": "code",
   "execution_count": 16,
   "metadata": {
    "dotnet_interactive": {
     "language": "fsharp"
    },
    "polyglot_notebook": {
     "kernelName": "fsharp"
    }
   },
   "outputs": [],
   "source": [
    "type Fetch = \n",
    "    | Nop \n",
    "    | AddX \n",
    "    | Value of int\n",
    "\n",
    "let parseLine (s : string) =\n",
    "    if s.StartsWith(\"addx\") then [| AddX; Value (int (s.Substring 5)) |]\n",
    "    elif s = \"noop\" then [|Nop|]\n",
    "    else failwith \"Bad opcode\"\n",
    "\n",
    "let parseCode lines =\n",
    "    lines\n",
    "    |> Array.collect parseLine\n",
    "\n",
    "let apply (prevFetch : Fetch, x : int) (fetch :  Fetch) =\n",
    "    match prevFetch, fetch with\n",
    "    | AddX, Value v -> (fetch, v + x)\n",
    "    | AddX, _ -> failwith \"Bad add instruction\"\n",
    "    | _, _ -> (fetch, x)\n",
    "\n",
    "let run instructions =\n",
    "    instructions\n",
    "    |> Array.scan apply (Nop, 1)\n",
    "    |> Array.map snd\n",
    "\n",
    "let signalStrength (output: int[]) t =\n",
    "    t * output[t-1]"
   ]
  },
  {
   "cell_type": "code",
   "execution_count": 17,
   "metadata": {
    "dotnet_interactive": {
     "language": "fsharp"
    },
    "polyglot_notebook": {
     "kernelName": "fsharp"
    }
   },
   "outputs": [
    {
     "data": {
      "text/html": [
       "<div><div></div><div></div><div><strong>Installed Packages</strong><ul><li><span>FsUnit, 5.1.0</span></li></ul></div></div>"
      ]
     },
     "metadata": {},
     "output_type": "display_data"
    }
   ],
   "source": [
    "#r \"nuget: FsUnit\"\n",
    "\n",
    "open FsUnitTyped\n",
    "\n",
    "let testProgram =\n",
    "    [|\n",
    "        \"addx 15\"\n",
    "        \"addx -11\"\n",
    "        \"addx 6\"\n",
    "        \"addx -3\"\n",
    "        \"addx 5\"\n",
    "        \"addx -1\"\n",
    "        \"addx -8\"\n",
    "        \"addx 13\"\n",
    "        \"addx 4\"\n",
    "        \"noop\"\n",
    "        \"addx -1\"\n",
    "        \"addx 5\"\n",
    "        \"addx -1\"\n",
    "        \"addx 5\"\n",
    "        \"addx -1\"\n",
    "        \"addx 5\"\n",
    "        \"addx -1\"\n",
    "        \"addx 5\"\n",
    "        \"addx -1\"\n",
    "        \"addx -35\"\n",
    "        \"addx 1\"\n",
    "        \"addx 24\"\n",
    "        \"addx -19\"\n",
    "        \"addx 1\"\n",
    "        \"addx 16\"\n",
    "        \"addx -11\"\n",
    "        \"noop\"\n",
    "        \"noop\"\n",
    "        \"addx 21\"\n",
    "        \"addx -15\"\n",
    "        \"noop\"\n",
    "        \"noop\"\n",
    "        \"addx -3\"\n",
    "        \"addx 9\"\n",
    "        \"addx 1\"\n",
    "        \"addx -3\"\n",
    "        \"addx 8\"\n",
    "        \"addx 1\"\n",
    "        \"addx 5\"\n",
    "        \"noop\"\n",
    "        \"noop\"\n",
    "        \"noop\"\n",
    "        \"noop\"\n",
    "        \"noop\"\n",
    "        \"addx -36\"\n",
    "        \"noop\"\n",
    "        \"addx 1\"\n",
    "        \"addx 7\"\n",
    "        \"noop\"\n",
    "        \"noop\"\n",
    "        \"noop\"\n",
    "        \"addx 2\"\n",
    "        \"addx 6\"\n",
    "        \"noop\"\n",
    "        \"noop\"\n",
    "        \"noop\"\n",
    "        \"noop\"\n",
    "        \"noop\"\n",
    "        \"addx 1\"\n",
    "        \"noop\"\n",
    "        \"noop\"\n",
    "        \"addx 7\"\n",
    "        \"addx 1\"\n",
    "        \"noop\"\n",
    "        \"addx -13\"\n",
    "        \"addx 13\"\n",
    "        \"addx 7\"\n",
    "        \"noop\"\n",
    "        \"addx 1\"\n",
    "        \"addx -33\"\n",
    "        \"noop\"\n",
    "        \"noop\"\n",
    "        \"noop\"\n",
    "        \"addx 2\"\n",
    "        \"noop\"\n",
    "        \"noop\"\n",
    "        \"noop\"\n",
    "        \"addx 8\"\n",
    "        \"noop\"\n",
    "        \"addx -1\"\n",
    "        \"addx 2\"\n",
    "        \"addx 1\"\n",
    "        \"noop\"\n",
    "        \"addx 17\"\n",
    "        \"addx -9\"\n",
    "        \"addx 1\"\n",
    "        \"addx 1\"\n",
    "        \"addx -3\"\n",
    "        \"addx 11\"\n",
    "        \"noop\"\n",
    "        \"noop\"\n",
    "        \"addx 1\"\n",
    "        \"noop\"\n",
    "        \"addx 1\"\n",
    "        \"noop\"\n",
    "        \"noop\"\n",
    "        \"addx -13\"\n",
    "        \"addx -19\"\n",
    "        \"addx 1\"\n",
    "        \"addx 3\"\n",
    "        \"addx 26\"\n",
    "        \"addx -30\"\n",
    "        \"addx 12\"\n",
    "        \"addx -1\"\n",
    "        \"addx 3\"\n",
    "        \"addx 1\"\n",
    "        \"noop\"\n",
    "        \"noop\"\n",
    "        \"noop\"\n",
    "        \"addx -9\"\n",
    "        \"addx 18\"\n",
    "        \"addx 1\"\n",
    "        \"addx 2\"\n",
    "        \"noop\"\n",
    "        \"noop\"\n",
    "        \"addx 9\"\n",
    "        \"noop\"\n",
    "        \"noop\"\n",
    "        \"noop\"\n",
    "        \"addx -1\"\n",
    "        \"addx 2\"\n",
    "        \"addx -37\"\n",
    "        \"addx 1\"\n",
    "        \"addx 3\"\n",
    "        \"noop\"\n",
    "        \"addx 15\"\n",
    "        \"addx -21\"\n",
    "        \"addx 22\"\n",
    "        \"addx -6\"\n",
    "        \"addx 1\"\n",
    "        \"noop\"\n",
    "        \"addx 2\"\n",
    "        \"addx 1\"\n",
    "        \"noop\"\n",
    "        \"addx -10\"\n",
    "        \"noop\"\n",
    "        \"noop\"\n",
    "        \"addx 20\"\n",
    "        \"addx 1\"\n",
    "        \"addx 2\"\n",
    "        \"addx 2\"\n",
    "        \"addx -6\"\n",
    "        \"addx -11\"\n",
    "        \"noop\"\n",
    "        \"noop\"\n",
    "        \"noop\"\n",
    "    |]\n",
    "\n",
    "let testInstrs = parseCode testProgram\n",
    "let testValues = run testInstrs\n",
    "let testStrengths = [20; 60; 100; 140; 180; 220] |> List.map (signalStrength testValues)\n",
    "testStrengths |> shouldEqual [420; 1140; 1800; 2940; 2880; 3960]\n"
   ]
  },
  {
   "cell_type": "code",
   "execution_count": 18,
   "metadata": {
    "dotnet_interactive": {
     "language": "fsharp"
    },
    "polyglot_notebook": {
     "kernelName": "fsharp"
    }
   },
   "outputs": [],
   "source": [
    "open System.IO\n",
    "\n",
    "let sourcePath = Path.Combine(__SOURCE_DIRECTORY__, \"input_10.txt\")\n",
    "let instructions = \n",
    "    File.ReadAllLines(sourcePath)\n",
    "    |> parseCode\n",
    "\n",
    "let values = run instructions\n",
    "\n",
    "let result = \n",
    "    [20; 60; 100; 140; 180; 220] \n",
    "    |> List.sumBy (signalStrength values)\n"
   ]
  },
  {
   "cell_type": "code",
   "execution_count": null,
   "metadata": {
    "dotnet_interactive": {
     "language": "fsharp"
    },
    "polyglot_notebook": {
     "kernelName": "fsharp"
    }
   },
   "outputs": [],
   "source": [
    "printfn \"Total signal strength %d\" result"
   ]
  }
 ],
 "metadata": {
  "kernelspec": {
   "display_name": ".NET (F#)",
   "language": "F#",
   "name": ".net-fsharp"
  },
  "polyglot_notebook": {
   "kernelInfo": {
    "defaultKernelName": "fsharp",
    "items": [
     {
      "aliases": [
       "f#",
       "F#"
      ],
      "languageName": "F#",
      "name": "fsharp"
     },
     {
      "aliases": [
       "powershell"
      ],
      "languageName": "PowerShell",
      "name": "pwsh"
     },
     {
      "aliases": [
       "frontend"
      ],
      "languageName": null,
      "name": "vscode"
     }
    ]
   }
  }
 },
 "nbformat": 4,
 "nbformat_minor": 2
}

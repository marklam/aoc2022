{
 "cells": [
  {
   "cell_type": "code",
   "execution_count": 13,
   "metadata": {
    "dotnet_interactive": {
     "language": "fsharp"
    },
    "polyglot_notebook": {
     "language": "fsharp"
    },
    "vscode": {
     "languageId": "dotnet-interactive.fsharp"
    }
   },
   "outputs": [],
   "source": [
    "let isVisible (grid : int[][]) (r,c) =\n",
    "    let w = grid[0].Length\n",
    "    let h = grid.Length\n",
    "    if r = 0 || c = 0 || r = h-1 || c = w-1 then\n",
    "        true\n",
    "    else\n",
    "        let t = grid[r][c]\n",
    "        let norths = [  0 .. r-1 ] |> List.map (fun r' -> r',c) \n",
    "        let souths = [r+1 .. h-1 ] |> List.map (fun r' -> r',c) \n",
    "        let wests  = [  0 .. c-1 ] |> List.map (fun c' -> r,c') \n",
    "        let easts  = [c+1 .. w-1 ] |> List.map (fun c' -> r,c') \n",
    "        let directions = [ norths; souths; easts; wests ]\n",
    "        let isSmaller (r',c') = grid[r'][c'] < t\n",
    "        directions\n",
    "        |> List.exists (List.forall isSmaller)\n",
    "\n",
    "let treeIndexes (grid : int[][]) =\n",
    "    let w = grid[0].Length\n",
    "    let h = grid.Length\n",
    "    ([0 .. w-1],[0 .. h-1]) ||> List.allPairs\n"
   ]
  },
  {
   "cell_type": "code",
   "execution_count": 5,
   "metadata": {
    "dotnet_interactive": {
     "language": "fsharp"
    },
    "vscode": {
     "languageId": "dotnet-interactive.fsharp"
    }
   },
   "outputs": [],
   "source": [
    "let parseTrees (lines:string[]) =\n",
    "    lines\n",
    "    |> Array.map(\n",
    "        fun line ->\n",
    "            line\n",
    "            |> Seq.toArray\n",
    "            |> Array.map (fun c -> int c - int '0')\n",
    "    )"
   ]
  },
  {
   "cell_type": "code",
   "execution_count": 15,
   "metadata": {
    "dotnet_interactive": {
     "language": "fsharp"
    },
    "vscode": {
     "languageId": "dotnet-interactive.fsharp"
    }
   },
   "outputs": [
    {
     "data": {
      "text/html": [
       "<div><div></div><div></div><div><strong>Installed Packages</strong><ul><li><span>FsUnit, 5.1.0</span></li></ul></div></div>"
      ]
     },
     "metadata": {},
     "output_type": "display_data"
    }
   ],
   "source": [
    "#r \"nuget: FsUnit\"\n",
    "\n",
    "open FsUnitTyped\n",
    "\n",
    "let testData =\n",
    "    [|\n",
    "        \"30373\"\n",
    "        \"25512\"\n",
    "        \"65332\"\n",
    "        \"33549\"\n",
    "        \"35390\"\n",
    "    |]\n",
    "    |> parseTrees\n",
    "\n",
    "let visibleCount = \n",
    "    treeIndexes testData\n",
    "    |> List.filter (isVisible testData)\n",
    "    |> List.length\n",
    "\n",
    "visibleCount |> shouldEqual 21"
   ]
  },
  {
   "cell_type": "code",
   "execution_count": 24,
   "metadata": {
    "dotnet_interactive": {
     "language": "fsharp"
    },
    "vscode": {
     "languageId": "dotnet-interactive.fsharp"
    }
   },
   "outputs": [],
   "source": [
    "open System.IO\n",
    "\n",
    "let sourcePath = Path.Combine(__SOURCE_DIRECTORY__, \"input_08.txt\")\n",
    "let trees = \n",
    "    File.ReadAllLines(sourcePath)\n",
    "    |> parseTrees\n",
    "\n",
    "let visibleCount = \n",
    "     treeIndexes trees\n",
    "     |> List.filter (isVisible trees)\n",
    "     |> List.length"
   ]
  },
  {
   "cell_type": "code",
   "execution_count": null,
   "metadata": {
    "dotnet_interactive": {
     "language": "fsharp"
    },
    "vscode": {
     "languageId": "dotnet-interactive.fsharp"
    }
   },
   "outputs": [],
   "source": [
    "printfn \"%d trees are visible\" visibleCount"
   ]
  },
  {
   "attachments": {},
   "cell_type": "markdown",
   "metadata": {},
   "source": [
    "## Part 2"
   ]
  },
  {
   "cell_type": "code",
   "execution_count": 40,
   "metadata": {
    "dotnet_interactive": {
     "language": "fsharp"
    },
    "vscode": {
     "languageId": "dotnet-interactive.fsharp"
    }
   },
   "outputs": [],
   "source": [
    "let takeUntil c xs =\n",
    "    let rec _takeUntil xs acc =\n",
    "        match xs with\n",
    "        | [] -> acc\n",
    "        | x::rest ->\n",
    "            if c x then \n",
    "                x::acc \n",
    "            else\n",
    "                _takeUntil rest (x::acc)\n",
    "    _takeUntil xs []\n",
    "    |> List.rev\n",
    "\n",
    "let scenicScore (grid : int[][]) (r,c) =\n",
    "    let w = grid[0].Length\n",
    "    let h = grid.Length\n",
    "    if r = 0 || c = 0 || r = h-1 || c = w-1 then\n",
    "        0\n",
    "    else\n",
    "        let t = grid[r][c]\n",
    "        let norths = [ r-1 .. -1 .. 0 ] |> List.map (fun r' -> r',c) \n",
    "        let souths = [ r+1 ..     h-1 ] |> List.map (fun r' -> r',c) \n",
    "        let wests  = [ c-1 .. -1 .. 0 ] |> List.map (fun c' -> r,c') \n",
    "        let easts  = [ c+1 ..     w-1 ] |> List.map (fun c' -> r,c') \n",
    "        \n",
    "        let treeDist dir = \n",
    "            dir \n",
    "            |> takeUntil (\n",
    "                fun (r',c') ->\n",
    "                    grid[r'][c'] >= t\n",
    "                    )\n",
    "            |> List.length\n",
    "        \n",
    "        (treeDist norths) * (treeDist souths) * (treeDist wests) * (treeDist easts)\n"
   ]
  },
  {
   "cell_type": "code",
   "execution_count": 42,
   "metadata": {
    "dotnet_interactive": {
     "language": "fsharp"
    },
    "vscode": {
     "languageId": "dotnet-interactive.fsharp"
    }
   },
   "outputs": [],
   "source": [
    "scenicScore testData (1,2) |> shouldEqual 4\n",
    "scenicScore testData (3,2) |> shouldEqual 8"
   ]
  },
  {
   "cell_type": "code",
   "execution_count": 43,
   "metadata": {
    "dotnet_interactive": {
     "language": "fsharp"
    },
    "vscode": {
     "languageId": "dotnet-interactive.fsharp"
    }
   },
   "outputs": [],
   "source": [
    "let highestScenicScore =\n",
    "     treeIndexes trees\n",
    "     |> List.map (scenicScore trees)\n",
    "     |> List.max"
   ]
  },
  {
   "cell_type": "code",
   "execution_count": null,
   "metadata": {
    "dotnet_interactive": {
     "language": "fsharp"
    },
    "vscode": {
     "languageId": "dotnet-interactive.fsharp"
    }
   },
   "outputs": [],
   "source": [
    "printfn \"Highest scenic score is %d\" highestScenicScore"
   ]
  }
 ],
 "metadata": {
  "kernelspec": {
   "display_name": ".NET (C#)",
   "language": "C#",
   "name": ".net-csharp"
  },
  "language_info": {
   "file_extension": ".cs",
   "mimetype": "text/x-csharp",
   "name": "C#",
   "pygments_lexer": "csharp",
   "version": "9.0"
  },
  "vscode": {
   "interpreter": {
    "hash": "2cbd2d7ebdb26be20c3158de19d4709ea17d74b3b2de8586d7f8f32862e088f4"
   }
  }
 },
 "nbformat": 4,
 "nbformat_minor": 2
}

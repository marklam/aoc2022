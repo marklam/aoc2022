{
 "cells": [
  {
   "cell_type": "code",
   "execution_count": 8,
   "metadata": {
    "dotnet_interactive": {
     "language": "fsharp"
    },
    "vscode": {
     "languageId": "dotnet-interactive.fsharp"
    }
   },
   "outputs": [],
   "source": [
    "let chunkBy isSeparator items =\n",
    "    let rec nextChunk chunks remainingItems =\n",
    "        match remainingItems with\n",
    "        | [] -> \n",
    "            chunks\n",
    "        | current::rest ->\n",
    "            let newChunks =\n",
    "                if isSeparator current then\n",
    "                    []::chunks\n",
    "                else\n",
    "                    match chunks with\n",
    "                    | [] ->\n",
    "                        [[current]]\n",
    "                    | processingChunk::processedChunks ->\n",
    "                        (current::processingChunk)::processedChunks\n",
    "            nextChunk newChunks rest\n",
    "\n",
    "    nextChunk [] items\n",
    "    |> List.map List.rev\n",
    "    |> List.rev"
   ]
  },
  {
   "cell_type": "code",
   "execution_count": 9,
   "metadata": {
    "dotnet_interactive": {
     "language": "fsharp"
    },
    "vscode": {
     "languageId": "dotnet-interactive.fsharp"
    }
   },
   "outputs": [
    {
     "data": {
      "text/html": [
       "<div><div></div><div></div><div><strong>Installed Packages</strong><ul><li><span>FsUnit, 5.1.0</span></li></ul></div></div>"
      ]
     },
     "metadata": {},
     "output_type": "display_data"
    }
   ],
   "source": [
    "#r \"nuget:FsUnit\"\n",
    "open FsUnitTyped\n",
    "\n",
    "chunkBy String.IsNullOrEmpty []  |> shouldEqual []\n",
    "chunkBy String.IsNullOrEmpty [ \"\" ] |> shouldEqual [[]]\n",
    "chunkBy String.IsNullOrEmpty [ \"1\"; \"2\" ] |> shouldEqual [[ \"1\"; \"2\" ]]\n",
    "chunkBy String.IsNullOrEmpty [ \"1\"; \"2\"; \"\"; \"3\" ] |> shouldEqual [[ \"1\"; \"2\" ]; [ \"3\" ]]"
   ]
  },
  {
   "cell_type": "code",
   "execution_count": 11,
   "metadata": {
    "dotnet_interactive": {
     "language": "fsharp"
    },
    "vscode": {
     "languageId": "dotnet-interactive.fsharp"
    }
   },
   "outputs": [],
   "source": [
    "let calorieChunks path =\n",
    "    File.ReadAllLines(path)\n",
    "    |> List.ofArray\n",
    "    |> chunkBy String.IsNullOrEmpty\n",
    "    |> List.map (List.map int)\n"
   ]
  },
  {
   "cell_type": "code",
   "execution_count": 13,
   "metadata": {
    "dotnet_interactive": {
     "language": "fsharp"
    },
    "polyglot_notebook": {
     "language": "fsharp"
    },
    "vscode": {
     "languageId": "dotnet-interactive.fsharp"
    }
   },
   "outputs": [
    {
     "name": "stdout",
     "output_type": "stream",
     "text": [
      "Top calories 65912"
     ]
    }
   ],
   "source": [
    "open System.IO\n",
    "\n",
    "let sourcePath = Path.Combine(__SOURCE_DIRECTORY__, \"input.txt\")\n",
    "\n",
    "let topCalories =\n",
    "    calorieChunks sourcePath\n",
    "    |> List.map List.sum\n",
    "    |> List.sortDescending\n",
    "    |> List.head\n",
    "\n",
    "printf \"Top calories %d\" topCalories\n"
   ]
  }
 ],
 "metadata": {
  "kernelspec": {
   "display_name": ".NET (F#)",
   "language": "F#",
   "name": ".net-fsharp"
  },
  "language_info": {
   "name": "F#"
  }
 },
 "nbformat": 4,
 "nbformat_minor": 2
}

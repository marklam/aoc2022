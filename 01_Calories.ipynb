{
 "cells": [
  {
   "cell_type": "code",
   "execution_count": 1,
   "metadata": {
    "dotnet_interactive": {
     "language": "fsharp"
    },
    "vscode": {
     "languageId": "dotnet-interactive.fsharp"
    }
   },
   "outputs": [],
   "source": [
    "let chunkBy isSeparator items =\n",
    "    let startNewChunk chunks =\n",
    "        []::chunks\n",
    "    \n",
    "    let addToCurrentChunk (item:'a) (chunks : 'a list list) =\n",
    "        match chunks with\n",
    "        | [] -> \n",
    "            [[item]]\n",
    "        | currentChunk::previousChunks ->\n",
    "            (item::currentChunk)::previousChunks\n",
    "\n",
    "    let rec processItems chunks remainingItems =\n",
    "        match remainingItems with\n",
    "        | [] -> \n",
    "            chunks\n",
    "        | item::rest ->\n",
    "            let newChunks =\n",
    "                if isSeparator item then\n",
    "                    chunks |> startNewChunk\n",
    "                else\n",
    "                    chunks |> addToCurrentChunk item\n",
    "            processItems newChunks rest\n",
    "\n",
    "    processItems [] items\n",
    "    |> List.map List.rev\n",
    "    |> List.rev"
   ]
  },
  {
   "cell_type": "code",
   "execution_count": 2,
   "metadata": {
    "dotnet_interactive": {
     "language": "fsharp"
    },
    "vscode": {
     "languageId": "dotnet-interactive.fsharp"
    }
   },
   "outputs": [
    {
     "data": {
      "text/html": [
       "<div><div></div><div></div><div><strong>Installed Packages</strong><ul><li><span>FsUnit, 5.1.0</span></li></ul></div></div>"
      ]
     },
     "metadata": {},
     "output_type": "display_data"
    }
   ],
   "source": [
    "#r \"nuget:FsUnit\"\n",
    "open FsUnitTyped\n",
    "\n",
    "chunkBy String.IsNullOrEmpty []  |> shouldEqual []\n",
    "chunkBy String.IsNullOrEmpty [ \"\" ] |> shouldEqual [[]]\n",
    "chunkBy String.IsNullOrEmpty [ \"1\"; \"2\" ] |> shouldEqual [[ \"1\"; \"2\" ]]\n",
    "chunkBy String.IsNullOrEmpty [ \"1\"; \"2\"; \"\"; \"3\" ] |> shouldEqual [[ \"1\"; \"2\" ]; [ \"3\" ]]"
   ]
  },
  {
   "cell_type": "code",
   "execution_count": 3,
   "metadata": {
    "dotnet_interactive": {
     "language": "fsharp"
    },
    "vscode": {
     "languageId": "dotnet-interactive.fsharp"
    }
   },
   "outputs": [],
   "source": [
    "let calorieChunks path =\n",
    "    File.ReadAllLines(path)\n",
    "    |> List.ofArray\n",
    "    |> chunkBy String.IsNullOrEmpty\n",
    "    |> List.map (List.map int)\n"
   ]
  },
  {
   "cell_type": "code",
   "execution_count": 9,
   "metadata": {
    "dotnet_interactive": {
     "language": "fsharp"
    },
    "polyglot_notebook": {
     "language": "fsharp"
    },
    "vscode": {
     "languageId": "dotnet-interactive.fsharp"
    }
   },
   "outputs": [],
   "source": [
    "open System.IO\n",
    "\n",
    "let sourcePath = Path.Combine(__SOURCE_DIRECTORY__, \"input_01.txt\")\n",
    "\n",
    "let sortedCalories =\n",
    "    calorieChunks sourcePath\n",
    "    |> List.map List.sum\n",
    "    |> List.sortDescending\n"
   ]
  },
  {
   "cell_type": "code",
   "execution_count": null,
   "metadata": {
    "dotnet_interactive": {
     "language": "fsharp"
    },
    "vscode": {
     "languageId": "dotnet-interactive.fsharp"
    }
   },
   "outputs": [],
   "source": [
    "\n",
    "printf \"Top calories %d\" (List.head sortedCalories)"
   ]
  },
  {
   "cell_type": "markdown",
   "metadata": {},
   "source": [
    "## Part 2"
   ]
  },
  {
   "cell_type": "code",
   "execution_count": null,
   "metadata": {
    "dotnet_interactive": {
     "language": "fsharp"
    },
    "vscode": {
     "languageId": "dotnet-interactive.fsharp"
    }
   },
   "outputs": [],
   "source": [
    "let top3Calories =\n",
    "    sortedCalories\n",
    "    |> List.take 3\n",
    "\n",
    "printf \"Top 3 total calories %d\" (List.sum top3Calories)"
   ]
  }
 ],
 "metadata": {
  "kernelspec": {
   "display_name": ".NET (C#)",
   "language": "C#",
   "name": ".net-csharp"
  },
  "language_info": {
   "file_extension": ".cs",
   "mimetype": "text/x-csharp",
   "name": "C#",
   "pygments_lexer": "csharp",
   "version": "9.0"
  },
  "vscode": {
   "interpreter": {
    "hash": "0acb032745ebb087d757f5f08d6fd8a553446ca2e456146080e51a05ff6b3348"
   }
  }
 },
 "nbformat": 4,
 "nbformat_minor": 2
}

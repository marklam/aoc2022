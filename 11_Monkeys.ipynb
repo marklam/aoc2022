{
 "cells": [
  {
   "cell_type": "code",
   "execution_count": null,
   "metadata": {
    "dotnet_interactive": {
     "language": "fsharp"
    },
    "polyglot_notebook": {
     "kernelName": "fsharp"
    }
   },
   "outputs": [],
   "source": [
    "// From day 1\n",
    "let chunkBy isSeparator items =\n",
    "    let startNewChunk chunks =\n",
    "        []::chunks\n",
    "    \n",
    "    let addToCurrentChunk (item:'a) (chunks : 'a list list) =\n",
    "        match chunks with\n",
    "        | [] -> \n",
    "            [[item]]\n",
    "        | currentChunk::previousChunks ->\n",
    "            (item::currentChunk)::previousChunks\n",
    "\n",
    "    let rec processItems chunks remainingItems =\n",
    "        match remainingItems with\n",
    "        | [] -> \n",
    "            chunks\n",
    "        | item::rest ->\n",
    "            let newChunks =\n",
    "                if isSeparator item then\n",
    "                    chunks |> startNewChunk\n",
    "                else\n",
    "                    chunks |> addToCurrentChunk item\n",
    "            processItems newChunks rest\n",
    "\n",
    "    processItems [] items\n",
    "    |> List.map List.rev\n",
    "    |> List.rev"
   ]
  },
  {
   "cell_type": "code",
   "execution_count": null,
   "metadata": {
    "dotnet_interactive": {
     "language": "fsharp"
    },
    "polyglot_notebook": {
     "kernelName": "fsharp"
    }
   },
   "outputs": [],
   "source": [
    "open Checked \n",
    "\n",
    "type Operator = | Add | Multiply\n",
    "type Operand = | Old | Value of int\n",
    "\n",
    "type MonkeyRules =\n",
    "    {\n",
    "        Order : int\n",
    "        Operator : Operator\n",
    "        Operand : Operand\n",
    "        DivisbleBy : int\n",
    "        ThrowTrue : int\n",
    "        ThrowFalse : int\n",
    "    }\n",
    "\n",
    "type MonkeyState = \n",
    "    { \n",
    "        Inspections : uint64\n",
    "        Holding : uint64 list\n",
    "    }    \n",
    "\n",
    "// Assumes a very rigid format, no error checking!\n",
    "let parseMonkey (lines : string[])  =\n",
    "    //Monkey 0:\n",
    "    let monkey = \n",
    "        lines[0].Split([| ' '; ':' |], StringSplitOptions.RemoveEmptyEntries) \n",
    "        |> Array.last\n",
    "        |> int\n",
    "\n",
    "    //Starting items: 79, 98\n",
    "    let items = \n",
    "        lines[1].Split([|':';','|], StringSplitOptions.TrimEntries)\n",
    "        |> Seq.skip 1\n",
    "        |> Seq.map uint64\n",
    "        |> List.ofSeq\n",
    "\n",
    "    //Operation: new = old * 19\n",
    "    let operator, operand = \n",
    "        let op = lines[2].Split(\"old\", 2, StringSplitOptions.TrimEntries)[1]\n",
    "        let operand = \n",
    "            match op.Substring(2) with\n",
    "            | \"old\" -> Old\n",
    "            | x -> Value (int x)\n",
    "        let operator =\n",
    "            match op[0] with\n",
    "            | '+' -> Add\n",
    "            | '*' -> Multiply\n",
    "            | x -> failwith $\"Unknown operator {x}\"\n",
    "        operator, operand\n",
    "\n",
    "    //Test: divisible by 23 \n",
    "    let divisibleBy = \n",
    "        lines[3].Split(\"by\", StringSplitOptions.TrimEntries)[1]\n",
    "        |> int\n",
    "\n",
    "    //If true: throw to monkey 2\n",
    "    let trueThrow = \n",
    "        lines[4].Split(' ') |> Array.last |> int\n",
    "\n",
    "    // If false: throw to monkey 3\n",
    "    let falseThrow =\n",
    "        lines[5].Split(' ') |> Array.last |> int\n",
    "\n",
    "    let rules = \n",
    "        {\n",
    "            Order = monkey\n",
    "            Operator = operator\n",
    "            Operand = operand\n",
    "            DivisbleBy = divisibleBy\n",
    "            ThrowTrue = trueThrow\n",
    "            ThrowFalse = falseThrow\n",
    "        }\n",
    "    rules, items\n",
    "    \n",
    "let parseMonkeys lines = \n",
    "    let parsed =\n",
    "        lines \n",
    "        |> List.ofSeq\n",
    "        |> chunkBy String.IsNullOrEmpty\n",
    "        |> List.map (Array.ofList >> parseMonkey)\n",
    "    \n",
    "    let rules =\n",
    "        parsed\n",
    "        |> List.map (fun (r,_) -> (r.Order,r))\n",
    "        |> Map.ofList\n",
    "\n",
    "    let state =\n",
    "        parsed\n",
    "        |> List.map (fun (r,i) -> (r.Order, { Inspections = 0uL; Holding = i}))\n",
    "        |> Map.ofList\n",
    "\n",
    "    (rules, state)\n",
    "\n",
    "let applyOperation (monkey : MonkeyRules) item =\n",
    "    let value = \n",
    "        match monkey.Operand with\n",
    "        | Old -> item\n",
    "        | Value v -> uint64 v\n",
    "    \n",
    "    match monkey.Operator with\n",
    "    | Add -> item + value\n",
    "    | Multiply -> item * value\n",
    "\n",
    "let applyTest (monkey : MonkeyRules) (item : uint64) =\n",
    "    if item % (uint64 monkey.DivisbleBy) = 0uL then\n",
    "        monkey.ThrowTrue\n",
    "    else monkey.ThrowFalse\n",
    "\n",
    "let processMonkey modulo (monkey : MonkeyRules) (monkeyStates : Map<int,MonkeyState>) =\n",
    "    let items  = monkeyStates[monkey.Order]\n",
    "    items.Holding\n",
    "    |> List.fold (\n",
    "        fun state item ->\n",
    "            //printfn \"Applying\"\n",
    "            let worry = applyOperation monkey item\n",
    "            //printfn \"Applied\"\n",
    "            let worry = worry % modulo\n",
    "            //printfn \"Mod\"\n",
    "            let transferTo = applyTest monkey worry\n",
    "            let destMonkeyState = state |> Map.find transferTo\n",
    "            let transferred = { destMonkeyState with Holding = worry::(destMonkeyState.Holding) }\n",
    "            \n",
    "            Map.add transferTo transferred state \n",
    "        ) monkeyStates\n",
    "    |> Map.add monkey.Order { Inspections = items.Inspections + uint64 items.Holding.Length; Holding = [] }\n",
    "\n",
    "let performRound monkeyRules monkeyState =\n",
    "    let modulo = \n",
    "        monkeyRules\n",
    "        |> Map.toSeq\n",
    "        |> Seq.map (fun (_,m) -> uint64 m.DivisbleBy)\n",
    "        |> Seq.fold (*) 1uL\n",
    "\n",
    "    monkeyRules\n",
    "    |> Map.fold (\n",
    "        fun state _ monkey ->\n",
    "            processMonkey modulo monkey state\n",
    "        ) monkeyState\n"
   ]
  },
  {
   "cell_type": "code",
   "execution_count": null,
   "metadata": {
    "dotnet_interactive": {
     "language": "fsharp"
    },
    "polyglot_notebook": {
     "kernelName": "fsharp"
    }
   },
   "outputs": [],
   "source": [
    "#r \"nuget: FsUnit\"\n",
    "open FsUnitTyped\n",
    "\n",
    "let shouldHaveSameElements xs ys =\n",
    "    xs |> List.sort |> shouldEqual (ys |> List.sort)\n",
    "\n",
    "let testInput =\n",
    "    [|\n",
    "        \"Monkey 0:\"\n",
    "        \"  Starting items: 79, 98\"\n",
    "        \"  Operation: new = old * 19\"\n",
    "        \"  Test: divisible by 23\"\n",
    "        \"    If true: throw to monkey 2\"\n",
    "        \"    If false: throw to monkey 3\"\n",
    "        \"\"\n",
    "        \"Monkey 1:\"\n",
    "        \"  Starting items: 54, 65, 75, 74\"\n",
    "        \"  Operation: new = old + 6\"\n",
    "        \"  Test: divisible by 19\"\n",
    "        \"    If true: throw to monkey 2\"\n",
    "        \"    If false: throw to monkey 0\"\n",
    "        \"\"\n",
    "        \"Monkey 2:\"\n",
    "        \"  Starting items: 79, 60, 97\"\n",
    "        \"  Operation: new = old * old\"\n",
    "        \"  Test: divisible by 13\"\n",
    "        \"    If true: throw to monkey 1\"\n",
    "        \"    If false: throw to monkey 3\"\n",
    "        \"\"\n",
    "        \"Monkey 3:\"\n",
    "        \"  Starting items: 74\"\n",
    "        \"  Operation: new = old + 3\"\n",
    "        \"  Test: divisible by 17\"\n",
    "        \"    If true: throw to monkey 0\"\n",
    "        \"    If false: throw to monkey 1\"\n",
    "    |]\n",
    "\n",
    "let testMonkeyRules, testMonkeyState =\n",
    "    parseMonkeys testInput\n",
    "\n",
    "let afterRounds =\n",
    "    [|1..20|]\n",
    "    |> Array.scan (\n",
    "        fun state _ ->\n",
    "            performRound testMonkeyRules state\n",
    "        ) testMonkeyState\n",
    "\n",
    "afterRounds[1].[0].Holding |> shouldHaveSameElements [ 20; 23; 27; 26 ]\n",
    "afterRounds[1].[1].Holding |> shouldHaveSameElements [ 2080; 25; 167; 207; 401; 1046 ]\n",
    "afterRounds[1].[2].Holding |> shouldHaveSameElements []\n",
    "afterRounds[1].[3].Holding |> shouldHaveSameElements []\n",
    "\n",
    "afterRounds[2].[0].Holding |> shouldHaveSameElements [ 695; 10; 71; 135; 350; ]\n",
    "afterRounds[2].[1].Holding |> shouldHaveSameElements [ 43; 49; 58; 55; 362 ]\n",
    "afterRounds[2].[2].Holding |> shouldHaveSameElements []\n",
    "afterRounds[2].[3].Holding |> shouldHaveSameElements []\n",
    "\n",
    "afterRounds[3].[0].Holding |> shouldHaveSameElements [ 16; 18; 21; 20; 122]\n",
    "afterRounds[3].[1].Holding |> shouldHaveSameElements [ 1468; 22; 150; 286; 739]\n",
    "afterRounds[3].[2].Holding |> shouldHaveSameElements []\n",
    "afterRounds[3].[3].Holding |> shouldHaveSameElements []\n",
    "\n",
    "afterRounds[4].[0].Holding |> shouldHaveSameElements [ 491; 9; 52; 97; 248; 34]\n",
    "afterRounds[4].[1].Holding |> shouldHaveSameElements [ 39; 45; 43; 258]\n",
    "afterRounds[4].[2].Holding |> shouldHaveSameElements []\n",
    "afterRounds[4].[3].Holding |> shouldHaveSameElements []\n",
    "\n",
    "afterRounds[5].[0].Holding |> shouldHaveSameElements [ 15; 17; 16; 88; 1037 ]\n",
    "afterRounds[5].[1].Holding |> shouldHaveSameElements [ 20; 110; 205; 524; 72 ]\n",
    "afterRounds[5].[2].Holding |> shouldHaveSameElements []\n",
    "afterRounds[5].[3].Holding |> shouldHaveSameElements []\n",
    "\n",
    "afterRounds[6].[0].Holding |> shouldHaveSameElements [ 8; 70; 176; 26; 34 ]\n",
    "afterRounds[6].[1].Holding |> shouldHaveSameElements [ 481; 32; 36; 186; 2190 ]\n",
    "afterRounds[6].[2].Holding |> shouldHaveSameElements []\n",
    "afterRounds[6].[3].Holding |> shouldHaveSameElements []\n",
    "\n",
    "afterRounds[7].[0].Holding |> shouldHaveSameElements [ 162; 12; 14; 64; 732; 17]\n",
    "afterRounds[7].[1].Holding |> shouldHaveSameElements [ 148; 372; 55; 72]\n",
    "afterRounds[7].[2].Holding |> shouldHaveSameElements []\n",
    "afterRounds[7].[3].Holding |> shouldHaveSameElements []\n",
    "\n",
    "afterRounds[8].[0].Holding |> shouldHaveSameElements [ 51; 126; 20; 26; 136]\n",
    "afterRounds[8].[1].Holding |> shouldHaveSameElements [ 343; 26; 30; 1546; 36]\n",
    "afterRounds[8].[2].Holding |> shouldHaveSameElements []\n",
    "afterRounds[8].[3].Holding |> shouldHaveSameElements []\n",
    "\n",
    "afterRounds[9].[0].Holding |> shouldHaveSameElements [ 116; 10; 12; 517; 14]\n",
    "afterRounds[9].[1].Holding |> shouldHaveSameElements [ 108; 267; 43; 55; 288]\n",
    "afterRounds[9].[2].Holding |> shouldHaveSameElements []\n",
    "afterRounds[9].[3].Holding |> shouldHaveSameElements []\n",
    "\n",
    "afterRounds[10].[0].Holding |> shouldHaveSameElements [ 91; 16; 20; 98]\n",
    "afterRounds[10].[1].Holding |> shouldHaveSameElements [ 481; 245; 22; 26; 1092; 30]\n",
    "afterRounds[10].[2].Holding |> shouldHaveSameElements []\n",
    "afterRounds[10].[3].Holding |> shouldHaveSameElements []\n",
    "\n",
    "afterRounds[15].[0].Holding |> shouldHaveSameElements [  83; 44; 8; 184; 9; 20; 26; 102]\n",
    "afterRounds[15].[1].Holding |> shouldHaveSameElements [  110; 36]\n",
    "afterRounds[15].[2].Holding |> shouldHaveSameElements []\n",
    "afterRounds[15].[3].Holding |> shouldHaveSameElements []\n",
    "\n",
    "afterRounds[20].[0].Holding |> shouldHaveSameElements [ 10; 12; 14; 26; 34]\n",
    "afterRounds[20].[1].Holding |> shouldHaveSameElements [ 245; 93; 53; 199; 115]\n",
    "afterRounds[20].[2].Holding |> shouldHaveSameElements []\n",
    "afterRounds[20].[3].Holding |> shouldHaveSameElements []\n",
    "\n",
    "afterRounds[20].[0].Inspections |> shouldEqual 101        \n",
    "afterRounds[20].[1].Inspections |> shouldEqual 95\n",
    "afterRounds[20].[2].Inspections |> shouldEqual 7\n",
    "afterRounds[20].[3].Inspections |> shouldEqual 105"
   ]
  },
  {
   "cell_type": "code",
   "execution_count": null,
   "metadata": {
    "dotnet_interactive": {
     "language": "fsharp"
    },
    "polyglot_notebook": {
     "kernelName": "fsharp"
    }
   },
   "outputs": [],
   "source": [
    "open System.IO\n",
    "\n",
    "let sourcePath = Path.Combine(__SOURCE_DIRECTORY__, \"input_11.txt\")\n",
    "let monkeyRules, monkeyState = \n",
    "    File.ReadAllLines(sourcePath)\n",
    "    |> parseMonkeys\n",
    "\n",
    "let afterRound20 = \n",
    "    [1..20]\n",
    "    |> List.fold (\n",
    "        fun state _ ->\n",
    "            performRound monkeyRules state\n",
    "        ) monkeyState   \n",
    "\n",
    "let mostActive =\n",
    "    afterRound20 \n",
    "    |> Map.toList\n",
    "    |> List.map (fun (_,m) -> m.Inspections)\n",
    "    |> List.sortDescending\n",
    "    |> List.take 2\n",
    "\n",
    "let level = \n",
    "    match mostActive with\n",
    "    | [m1;m2] -> m1*m2\n",
    "    | _ -> failwith \"Did not take 2?\"             "
   ]
  },
  {
   "cell_type": "code",
   "execution_count": null,
   "metadata": {
    "dotnet_interactive": {
     "language": "fsharp"
    },
    "polyglot_notebook": {
     "kernelName": "fsharp"
    }
   },
   "outputs": [],
   "source": [
    "printfn \"Monkey business is %d\" level"
   ]
  },
  {
   "attachments": {},
   "cell_type": "markdown",
   "metadata": {
    "dotnet_interactive": {
     "language": "fsharp"
    },
    "polyglot_notebook": {
     "kernelName": "fsharp"
    }
   },
   "source": [
    "## Part 2"
   ]
  },
  {
   "cell_type": "code",
   "execution_count": null,
   "metadata": {
    "dotnet_interactive": {
     "language": "fsharp"
    },
    "polyglot_notebook": {
     "kernelName": "fsharp"
    }
   },
   "outputs": [],
   "source": [
    "let afterRound10000 = \n",
    "    [1..10000]\n",
    "    |> List.fold (\n",
    "        fun state _ ->\n",
    "            performRound monkeyRules state\n",
    "        ) monkeyState "
   ]
  },
  {
   "cell_type": "code",
   "execution_count": null,
   "metadata": {
    "dotnet_interactive": {
     "language": "fsharp"
    },
    "polyglot_notebook": {
     "kernelName": "fsharp"
    }
   },
   "outputs": [],
   "source": [
    "let mostActive =\n",
    "    afterRound10000 \n",
    "    |> Map.toList\n",
    "    |> List.map (fun (_,m) -> m.Inspections)\n",
    "    |> List.sortDescending\n",
    "    |> List.take 2\n",
    "\n",
    "let level = \n",
    "    match mostActive with\n",
    "    | [m1;m2] -> m1*m2\n",
    "    | _ -> failwith \"Did not take 2?\" "
   ]
  },
  {
   "cell_type": "code",
   "execution_count": null,
   "metadata": {
    "dotnet_interactive": {
     "language": "fsharp"
    },
    "polyglot_notebook": {
     "kernelName": "fsharp"
    }
   },
   "outputs": [],
   "source": [
    "printfn \"Level is now %d\" level"
   ]
  }
 ],
 "metadata": {
  "kernelspec": {
   "display_name": ".NET (C#)",
   "language": "C#",
   "name": ".net-csharp"
  },
  "polyglot_notebook": {
   "kernelInfo": {
    "defaultKernelName": "csharp",
    "items": [
     {
      "aliases": [
       "c#",
       "C#"
      ],
      "languageName": "C#",
      "name": "csharp"
     },
     {
      "aliases": [
       "frontend"
      ],
      "name": "vscode"
     },
     {
      "aliases": [],
      "languageName": null,
      "name": ".NET"
     },
     {
      "aliases": [
       "f#",
       "F#"
      ],
      "languageName": "F#",
      "name": "fsharp"
     },
     {
      "aliases": [],
      "languageName": "HTML",
      "name": "html"
     },
     {
      "aliases": [
       "js"
      ],
      "languageName": "JavaScript",
      "name": "javascript"
     },
     {
      "aliases": [],
      "languageName": "KQL",
      "name": "kql"
     },
     {
      "aliases": [],
      "languageName": "Mermaid",
      "name": "mermaid"
     },
     {
      "aliases": [
       "powershell"
      ],
      "languageName": "PowerShell",
      "name": "pwsh"
     },
     {
      "aliases": [],
      "languageName": "SQL",
      "name": "sql"
     },
     {
      "aliases": [],
      "languageName": null,
      "name": "value"
     },
     {
      "aliases": [],
      "name": "webview"
     }
    ]
   }
  }
 },
 "nbformat": 4,
 "nbformat_minor": 2
}

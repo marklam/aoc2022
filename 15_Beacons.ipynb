{
 "cells": [
  {
   "cell_type": "code",
   "execution_count": null,
   "metadata": {
    "dotnet_interactive": {
     "language": "fsharp"
    },
    "polyglot_notebook": {
     "kernelName": "fsharp"
    }
   },
   "outputs": [],
   "source": [
    "type [<Struct>] Position = { X : int; Y : int }\n",
    "type Sensor = { Sensor : Position; Beacon : Position }\n",
    "let parseLine (line : string) =\n",
    "    let bits = \n",
    "        line.Split[| '='; ','; ':' |] \n",
    "    { Sensor = { X = int bits[1]; Y = int bits[3] }; Beacon = { X = int bits[5]; Y = int bits[7] } }\n",
    "\n",
    "let distance a b =\n",
    "    abs (a.X - b.X) + abs (a.Y - b.Y)"
   ]
  },
  {
   "cell_type": "code",
   "execution_count": null,
   "metadata": {
    "dotnet_interactive": {
     "language": "fsharp"
    },
    "polyglot_notebook": {
     "kernelName": "fsharp"
    }
   },
   "outputs": [],
   "source": [
    "let ruledOut row sensor =\n",
    "    let sensorRange = distance sensor.Sensor sensor.Beacon\n",
    "    let distanceToRow = abs (row - sensor.Sensor.Y)\n",
    "    let reachIntoRow = sensorRange - distanceToRow\n",
    "    if  reachIntoRow < 0 then\n",
    "        Set.empty\n",
    "    else\n",
    "        [(sensor.Sensor.X - reachIntoRow) .. (sensor.Sensor.X + reachIntoRow)]\n",
    "        //|> List.map (fun x -> { X = x; Y = row })\n",
    "        |> Set.ofSeq\n",
    "\n",
    "let combineRuledOut row sensors =\n",
    "    let eliminated =\n",
    "        sensors\n",
    "        |> Seq.fold (\n",
    "            fun set sensor ->        \n",
    "                ruledOut row sensor\n",
    "                |> Set.union set\n",
    "            ) Set.empty\n",
    "\n",
    "    let withoutBeacons =\n",
    "        sensors\n",
    "        |> Seq.fold (\n",
    "            fun set s ->\n",
    "                if s.Beacon.Y = row then\n",
    "                    Set.remove s.Beacon.X set\n",
    "                else set\n",
    "            ) eliminated\n",
    "    \n",
    "    withoutBeacons"
   ]
  },
  {
   "cell_type": "code",
   "execution_count": null,
   "metadata": {
    "dotnet_interactive": {
     "language": "fsharp"
    },
    "polyglot_notebook": {
     "kernelName": "fsharp"
    }
   },
   "outputs": [],
   "source": [
    "#r \"nuget: FsUnit\"\n",
    "\n",
    "open FsUnitTyped\n",
    "\n",
    "let testInput =\n",
    "    [|\n",
    "        \"Sensor at x=2, y=18: closest beacon is at x=-2, y=15\"\n",
    "        \"Sensor at x=9, y=16: closest beacon is at x=10, y=16\"\n",
    "        \"Sensor at x=13, y=2: closest beacon is at x=15, y=3\"\n",
    "        \"Sensor at x=12, y=14: closest beacon is at x=10, y=16\"\n",
    "        \"Sensor at x=10, y=20: closest beacon is at x=10, y=16\"\n",
    "        \"Sensor at x=14, y=17: closest beacon is at x=10, y=16\"\n",
    "        \"Sensor at x=8, y=7: closest beacon is at x=2, y=10\"\n",
    "        \"Sensor at x=2, y=0: closest beacon is at x=2, y=10\"\n",
    "        \"Sensor at x=0, y=11: closest beacon is at x=2, y=10\"\n",
    "        \"Sensor at x=20, y=14: closest beacon is at x=25, y=17\"\n",
    "        \"Sensor at x=17, y=20: closest beacon is at x=21, y=22\"\n",
    "        \"Sensor at x=16, y=7: closest beacon is at x=15, y=3\"\n",
    "        \"Sensor at x=14, y=3: closest beacon is at x=15, y=3\"\n",
    "        \"Sensor at x=20, y=1: closest beacon is at x=15, y=3\"\n",
    "    |]\n",
    "\n",
    "testInput\n",
    "|> Array.map parseLine\n",
    "|> combineRuledOut 10\n",
    "|> Set.count\n",
    "|> shouldEqual 26"
   ]
  },
  {
   "cell_type": "code",
   "execution_count": null,
   "metadata": {
    "dotnet_interactive": {
     "language": "fsharp"
    },
    "polyglot_notebook": {
     "kernelName": "fsharp"
    }
   },
   "outputs": [],
   "source": [
    "open System.IO\n",
    "\n",
    "let sourcePath = Path.Combine(__SOURCE_DIRECTORY__, \"input_15.txt\")\n",
    "let sensors = \n",
    "    File.ReadAllLines(sourcePath)\n",
    "    |> Array.map parseLine\n",
    "\n",
    "let result = \n",
    "    sensors\n",
    "    |> combineRuledOut 2000000\n",
    "    |> Set.count"
   ]
  },
  {
   "cell_type": "code",
   "execution_count": null,
   "metadata": {
    "dotnet_interactive": {
     "language": "fsharp"
    },
    "polyglot_notebook": {
     "kernelName": "fsharp"
    }
   },
   "outputs": [],
   "source": [
    "printfn \"Result: %d ruled out\" result"
   ]
  },
  {
   "attachments": {},
   "cell_type": "markdown",
   "metadata": {
    "dotnet_interactive": {
     "language": "fsharp"
    },
    "polyglot_notebook": {
     "kernelName": "fsharp"
    }
   },
   "source": [
    "## Part 2"
   ]
  },
  {
   "cell_type": "code",
   "execution_count": null,
   "metadata": {
    "dotnet_interactive": {
     "language": "fsharp"
    },
    "polyglot_notebook": {
     "kernelName": "fsharp"
    }
   },
   "outputs": [],
   "source": [
    "// Thanks to reddit users for pointing out that a unique solution must be just outside the range of the sensors\n",
    "let limit = 4000000\n",
    "let justOutside (s : Sensor) =\n",
    "    let rad = 1 + distance s.Sensor s.Beacon\n",
    "    [ 0 .. rad-1 ]\n",
    "    |> List.collect (\n",
    "        fun d -> \n",
    "            [\n",
    "                { X = s.Sensor.X       + d; Y = s.Sensor.Y - rad + d }\n",
    "                { X = s.Sensor.X + rad - d; Y = s.Sensor.Y       + d }\n",
    "                { X = s.Sensor.X       - d; Y = s.Sensor.Y + rad - d }\n",
    "                { X = s.Sensor.X - rad + d; Y = s.Sensor.Y       - d }\n",
    "            ]\n",
    "            |> List.filter (fun c -> c.X >= 0 && c.X <= limit && c.Y >= 0 && c.Y <= limit)\n",
    "        )\n",
    "    |> Array.ofList\n",
    "\n",
    "let canBeSeenBy pos s =\n",
    "    distance s.Sensor s.Beacon >= distance s.Sensor pos\n"
   ]
  },
  {
   "cell_type": "code",
   "execution_count": null,
   "metadata": {
    "dotnet_interactive": {
     "language": "fsharp"
    },
    "polyglot_notebook": {
     "kernelName": "fsharp"
    }
   },
   "outputs": [],
   "source": [
    "// It's also going to be on the border of more than one sensor\n",
    "let testPixels =\n",
    "    let pix = System.Collections.Concurrent.ConcurrentDictionary<Position, int>()\n",
    "    for s in sensors do\n",
    "        justOutside s\n",
    "        |> Array.Parallel.iter (\n",
    "            fun p ->\n",
    "                pix.AddOrUpdate(p, (fun _ -> 1), (fun _ c -> c + 1))\n",
    "                |> ignore\n",
    "            )\n",
    "    pix\n",
    "    |> Seq.choose (fun kvp -> if kvp.Value > 1 then Some (kvp.Key, kvp.Value) else None)\n",
    "    |> Array.ofSeq\n",
    "    |> Array.sortByDescending snd\n"
   ]
  },
  {
   "cell_type": "code",
   "execution_count": null,
   "metadata": {
    "dotnet_interactive": {
     "language": "fsharp"
    },
    "polyglot_notebook": {
     "kernelName": "fsharp"
    }
   },
   "outputs": [],
   "source": [
    "let (pos,_) =\n",
    "    testPixels \n",
    "    |> Array.find (\n",
    "        fun (p,_) ->\n",
    "            sensors |> Array.forall (fun s -> not (canBeSeenBy p s))\n",
    "        )\n",
    "printfn \"Frequency:%d\" (uint64 pos.X * uint64 limit + uint64 pos.Y)"
   ]
  }
 ],
 "metadata": {
  "kernelspec": {
   "display_name": ".NET (C#)",
   "language": "C#",
   "name": ".net-csharp"
  },
  "polyglot_notebook": {
   "kernelInfo": {
    "defaultKernelName": "csharp",
    "items": [
     {
      "aliases": [
       "c#",
       "C#"
      ],
      "languageName": "C#",
      "name": "csharp"
     },
     {
      "aliases": [],
      "name": ".NET"
     },
     {
      "aliases": [
       "f#",
       "F#"
      ],
      "languageName": "F#",
      "name": "fsharp"
     },
     {
      "aliases": [],
      "languageName": "HTML",
      "name": "html"
     },
     {
      "aliases": [
       "js"
      ],
      "languageName": "JavaScript",
      "name": "javascript"
     },
     {
      "aliases": [],
      "languageName": "KQL",
      "name": "kql"
     },
     {
      "aliases": [],
      "languageName": "Mermaid",
      "name": "mermaid"
     },
     {
      "aliases": [
       "powershell"
      ],
      "languageName": "PowerShell",
      "name": "pwsh"
     },
     {
      "aliases": [],
      "languageName": "SQL",
      "name": "sql"
     },
     {
      "aliases": [],
      "name": "value"
     },
     {
      "aliases": [
       "frontend"
      ],
      "name": "vscode"
     },
     {
      "aliases": [],
      "name": "webview"
     }
    ]
   }
  }
 },
 "nbformat": 4,
 "nbformat_minor": 2
}

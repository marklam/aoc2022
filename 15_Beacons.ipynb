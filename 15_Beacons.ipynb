{
 "cells": [
  {
   "cell_type": "code",
   "execution_count": 4,
   "metadata": {
    "dotnet_interactive": {
     "language": "fsharp"
    },
    "polyglot_notebook": {
     "kernelName": "fsharp"
    }
   },
   "outputs": [],
   "source": [
    "type Position = { X : int; Y : int }\n",
    "type Sensor = { Sensor : Position; Beacon : Position }\n",
    "let parseLine (line : string) =\n",
    "    let bits = \n",
    "        line.Split[| '='; ','; ':' |] \n",
    "    { Sensor = { X = int bits[1]; Y = int bits[3] }; Beacon = { X = int bits[5]; Y = int bits[7] } }\n",
    "\n",
    "let distance a b =\n",
    "    abs (a.X - b.X) + abs (a.Y - b.Y)"
   ]
  },
  {
   "cell_type": "code",
   "execution_count": 7,
   "metadata": {
    "dotnet_interactive": {
     "language": "fsharp"
    },
    "polyglot_notebook": {
     "kernelName": "fsharp"
    }
   },
   "outputs": [],
   "source": [
    "let ruledOut row sensor =\n",
    "    let sensorRange = distance sensor.Sensor sensor.Beacon\n",
    "    let distanceToRow = abs (row - sensor.Sensor.Y)\n",
    "    let reachIntoRow = sensorRange - distanceToRow\n",
    "    if  reachIntoRow < 0 then\n",
    "        Set.empty\n",
    "    else\n",
    "        [(sensor.Sensor.X - reachIntoRow) .. (sensor.Sensor.X + reachIntoRow)]\n",
    "        |> List.map (fun x -> { X = x; Y = row })\n",
    "        |> Set.ofSeq\n",
    "\n",
    "let combineRuledOut row sensors =\n",
    "    let eliminated =\n",
    "        sensors\n",
    "        |> Seq.fold (\n",
    "            fun set sensor ->        \n",
    "                ruledOut row sensor\n",
    "                |> Set.union set\n",
    "            ) Set.empty"
   ]
  },
  {
   "cell_type": "code",
   "execution_count": 10,
   "metadata": {
    "dotnet_interactive": {
     "language": "fsharp"
    },
    "polyglot_notebook": {
     "kernelName": "fsharp"
    }
   },
   "outputs": [
    {
     "data": {
      "text/html": [
       "<div><div></div><div></div><div><strong>Installed Packages</strong><ul><li><span>FsUnit, 5.1.0</span></li></ul></div></div>"
      ]
     },
     "metadata": {},
     "output_type": "display_data"
    },
    {
     "data": {
      "text/html": [
       "<div class=\"dni-plaintext\"><pre>27</pre></div><style>\r\n",
       ".dni-code-hint {\r\n",
       "    font-style: italic;\r\n",
       "    overflow: hidden;\r\n",
       "    white-space: nowrap;\r\n",
       "}\r\n",
       ".dni-treeview {\r\n",
       "    white-space: nowrap;\r\n",
       "}\r\n",
       ".dni-treeview td {\r\n",
       "    vertical-align: top;\r\n",
       "    text-align: start;\r\n",
       "}\r\n",
       "details.dni-treeview {\r\n",
       "    padding-left: 1em;\r\n",
       "}\r\n",
       "table td {\r\n",
       "    text-align: start;\r\n",
       "}\r\n",
       "table tr { \r\n",
       "    vertical-align: top; \r\n",
       "    margin: 0em 0px;\r\n",
       "}\r\n",
       "table tr td pre \r\n",
       "{ \r\n",
       "    vertical-align: top !important; \r\n",
       "    margin: 0em 0px !important;\r\n",
       "} \r\n",
       "table th {\r\n",
       "    text-align: start;\r\n",
       "}\r\n",
       "</style>"
      ]
     },
     "metadata": {},
     "output_type": "display_data"
    }
   ],
   "source": [
    "#r \"nuget: FsUnit\"\n",
    "\n",
    "open FsUnitTyped\n",
    "\n",
    "let testInput =\n",
    "    [|\n",
    "        \"Sensor at x=2, y=18: closest beacon is at x=-2, y=15\"\n",
    "        \"Sensor at x=9, y=16: closest beacon is at x=10, y=16\"\n",
    "        \"Sensor at x=13, y=2: closest beacon is at x=15, y=3\"\n",
    "        \"Sensor at x=12, y=14: closest beacon is at x=10, y=16\"\n",
    "        \"Sensor at x=10, y=20: closest beacon is at x=10, y=16\"\n",
    "        \"Sensor at x=14, y=17: closest beacon is at x=10, y=16\"\n",
    "        \"Sensor at x=8, y=7: closest beacon is at x=2, y=10\"\n",
    "        \"Sensor at x=2, y=0: closest beacon is at x=2, y=10\"\n",
    "        \"Sensor at x=0, y=11: closest beacon is at x=2, y=10\"\n",
    "        \"Sensor at x=20, y=14: closest beacon is at x=25, y=17\"\n",
    "        \"Sensor at x=17, y=20: closest beacon is at x=21, y=22\"\n",
    "        \"Sensor at x=16, y=7: closest beacon is at x=15, y=3\"\n",
    "        \"Sensor at x=14, y=3: closest beacon is at x=15, y=3\"\n",
    "        \"Sensor at x=20, y=1: closest beacon is at x=15, y=3\"\n",
    "    |]\n",
    "\n",
    "testInput\n",
    "|> Array.map parseLine\n",
    "|> combineRuledOut 10\n",
    "|> Set.count"
   ]
  },
  {
   "cell_type": "code",
   "execution_count": null,
   "metadata": {
    "dotnet_interactive": {
     "language": "fsharp"
    },
    "polyglot_notebook": {
     "kernelName": "fsharp"
    }
   },
   "outputs": [],
   "source": []
  }
 ],
 "metadata": {
  "kernelspec": {
   "display_name": ".NET (F#)",
   "language": "F#",
   "name": ".net-fsharp"
  },
  "polyglot_notebook": {
   "kernelInfo": {
    "defaultKernelName": "fsharp",
    "items": [
     {
      "aliases": [
       "f#",
       "F#"
      ],
      "languageName": "F#",
      "name": "fsharp"
     },
     {
      "aliases": [
       "frontend"
      ],
      "languageName": null,
      "name": "vscode"
     },
     {
      "aliases": [],
      "languageName": "Mermaid",
      "name": "mermaid"
     },
     {
      "aliases": [],
      "languageName": null,
      "name": "value"
     }
    ]
   }
  }
 },
 "nbformat": 4,
 "nbformat_minor": 2
}

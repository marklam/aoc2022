{
 "cells": [
  {
   "cell_type": "code",
   "execution_count": 38,
   "metadata": {
    "dotnet_interactive": {
     "language": "fsharp"
    },
    "polyglot_notebook": {
     "language": "fsharp"
    },
    "vscode": {
     "languageId": "dotnet-interactive.fsharp"
    }
   },
   "outputs": [],
   "source": [
    "type Direction = | Up | Down | Left | Right\n",
    "\n",
    "type Move = \n",
    "    { \n",
    "        Direction : Direction\n",
    "        Steps : int \n",
    "    }\n",
    "\n",
    "type Rope = \n",
    "    {\n",
    "        Head : int*int\n",
    "        Tail : int*int\n",
    "        TailVisited : (int*int) list\n",
    "    }\n",
    "\n",
    "module Rope =\n",
    "    let starting = { Head = (0,0); Tail = (0,0); TailVisited = [(0,0)] }\n",
    "\n",
    "    let moveHead dir rope =\n",
    "        let (x,y) = rope.Head\n",
    "        match dir with\n",
    "        | Up -> { rope with Head = (x, y + 1) }\n",
    "        | Down -> { rope with Head = (x, y - 1) }\n",
    "        | Left -> { rope with Head = (x - 1, y) }\n",
    "        | Right -> { rope with Head = (x + 1, y) }        \n",
    "\n",
    "    let moveTail rope =\n",
    "        let (hx, hy) = rope.Head\n",
    "        let (tx, ty) = rope.Tail\n",
    "        let (dx, dy) = (hx-tx, hy-ty)\n",
    "        if (abs dx <= 1) && (abs dy <= 1) then\n",
    "            rope // ends are next to each other\n",
    "        else\n",
    "            let t' = (tx + sign dx, ty + sign dy) // move one space max\n",
    "            { rope with Tail = t'; TailVisited = t'::rope.TailVisited }\n",
    "\n",
    "    let rec applyMove move rope =\n",
    "        if move.Steps = 0 then\n",
    "            rope\n",
    "        else\n",
    "            rope\n",
    "            |> moveHead move.Direction\n",
    "            |> moveTail\n",
    "            |> applyMove { move with Steps = move.Steps-1 }\n",
    "\n",
    "    let applyMoves moves rope =\n",
    "        moves\n",
    "        |> Seq.fold (fun r m -> applyMove m r) rope\n",
    "\n",
    "    let visitedCount rope =\n",
    "        rope.TailVisited\n",
    "        |> List.distinct\n",
    "        |> List.length\n"
   ]
  },
  {
   "cell_type": "code",
   "execution_count": 39,
   "metadata": {
    "dotnet_interactive": {
     "language": "fsharp"
    },
    "vscode": {
     "languageId": "dotnet-interactive.fsharp"
    }
   },
   "outputs": [],
   "source": [
    "let parseLine (s : string) =\n",
    "    let steps = int (s.Substring(2))\n",
    "    let dir = \n",
    "        match s[0] with\n",
    "        | 'U' -> Up\n",
    "        | 'D' -> Down\n",
    "        | 'L' -> Left\n",
    "        | 'R' -> Right\n",
    "        | _ -> failwith \"Unrecognised direction\"\n",
    "    { Direction = dir; Steps = steps }\n"
   ]
  },
  {
   "cell_type": "code",
   "execution_count": 40,
   "metadata": {
    "dotnet_interactive": {
     "language": "fsharp"
    },
    "vscode": {
     "languageId": "dotnet-interactive.fsharp"
    }
   },
   "outputs": [
    {
     "data": {
      "text/html": [
       "<div><div></div><div></div><div><strong>Installed Packages</strong><ul><li><span>FsUnit, 5.1.0</span></li></ul></div></div>"
      ]
     },
     "metadata": {},
     "output_type": "display_data"
    }
   ],
   "source": [
    "#r \"nuget: FsUnit\"\n",
    "\n",
    "open FsUnitTyped\n",
    "\n",
    "let testInput = \n",
    "    [|\n",
    "        \"R 4\"\n",
    "        \"U 4\"\n",
    "        \"L 3\"\n",
    "        \"D 1\"\n",
    "        \"R 4\"\n",
    "        \"D 1\"\n",
    "        \"L 5\"\n",
    "        \"R 2\"\n",
    "    |]\n",
    "    |> Array.map parseLine\n",
    "\n",
    "let testResult = Rope.starting |> Rope.applyMoves testInput\n",
    "\n",
    "Rope.visitedCount testResult |> shouldEqual 13"
   ]
  },
  {
   "cell_type": "code",
   "execution_count": 41,
   "metadata": {
    "dotnet_interactive": {
     "language": "fsharp"
    },
    "vscode": {
     "languageId": "dotnet-interactive.fsharp"
    }
   },
   "outputs": [],
   "source": [
    "open System.IO\n",
    "\n",
    "let sourcePath = Path.Combine(__SOURCE_DIRECTORY__, \"input_09.txt\")\n",
    "let moves = \n",
    "    File.ReadAllLines(sourcePath)\n",
    "    |> Array.map parseLine\n",
    "\n",
    "let result = \n",
    "    Rope.starting\n",
    "    |> Rope.applyMoves moves\n",
    "    |> Rope.visitedCount"
   ]
  },
  {
   "cell_type": "code",
   "execution_count": null,
   "metadata": {
    "dotnet_interactive": {
     "language": "fsharp"
    },
    "vscode": {
     "languageId": "dotnet-interactive.fsharp"
    }
   },
   "outputs": [],
   "source": [
    "printfn \"Tail visited %d spaces\" result"
   ]
  },
  {
   "attachments": {},
   "cell_type": "markdown",
   "metadata": {},
   "source": [
    "## Part 2"
   ]
  },
  {
   "cell_type": "code",
   "execution_count": 49,
   "metadata": {
    "dotnet_interactive": {
     "language": "fsharp"
    },
    "vscode": {
     "languageId": "dotnet-interactive.fsharp"
    }
   },
   "outputs": [],
   "source": [
    "type Knot = \n",
    "    { \n",
    "        Position : int*int\n",
    "        History : (int*int) list\n",
    "    }\n",
    "\n",
    "type Rope2 = \n",
    "    {\n",
    "        Knots : Knot list\n",
    "    }\n",
    "\n",
    "module Rope2 =\n",
    "    let starting numKnots = \n",
    "        {\n",
    "            Knots = List.init numKnots (fun _ -> { Position = (0,0); History = [(0,0)] })\n",
    "        }\n",
    "\n",
    "    let moveTail (ahead, behind) =\n",
    "        let (hx, hy) = ahead.Position\n",
    "        let (tx, ty) = behind.Position\n",
    "        let (dx, dy) = (hx-tx, hy-ty)\n",
    "        if (abs dx <= 1) && (abs dy <= 1) then\n",
    "            behind // ends are next to each other\n",
    "        else\n",
    "            let t' = (tx + sign dx, ty + sign dy) // move one space max\n",
    "            { Position = t'; History = t' :: behind.History }\n",
    "\n",
    "    let pull dir rope =\n",
    "        match rope.Knots with\n",
    "        | [] -> rope\n",
    "        | h::rest ->\n",
    "            let (x,y) = h.Position\n",
    "            let h' =\n",
    "                match dir with\n",
    "                | Up -> (x, y + 1)\n",
    "                | Down -> (x, y - 1)\n",
    "                | Left -> (x - 1, y)\n",
    "                | Right -> (x + 1, y)\n",
    "            \n",
    "            let movedHead =\n",
    "                { Position = h'; History = h'::h.History }\n",
    "            \n",
    "            let movedTail =\n",
    "                movedHead::rest\n",
    "                |> List.pairwise\n",
    "                |> List.map moveTail\n",
    "\n",
    "            { rope with Knots = movedHead::movedTail }\n",
    "\n",
    "    let rec applyMove move rope =\n",
    "        if move.Steps = 0 then\n",
    "            rope\n",
    "        else\n",
    "            rope\n",
    "            |> pull move.Direction\n",
    "            |> applyMove { move with Steps = move.Steps-1 }\n",
    "\n",
    "    let applyMoves moves rope =\n",
    "        moves\n",
    "        |> Seq.fold (fun r m -> applyMove m r) rope\n",
    "\n",
    "    let lastVisitedCount rope =\n",
    "        (List.last rope.Knots).History\n",
    "        |> List.distinct\n",
    "        |> List.length\n",
    "\n"
   ]
  },
  {
   "cell_type": "code",
   "execution_count": 54,
   "metadata": {
    "dotnet_interactive": {
     "language": "fsharp"
    },
    "vscode": {
     "languageId": "dotnet-interactive.fsharp"
    }
   },
   "outputs": [],
   "source": [
    "let largeTest =\n",
    "    [|\n",
    "        \"R 5\"\n",
    "        \"U 8\"\n",
    "        \"L 8\"\n",
    "        \"D 3\"\n",
    "        \"R 17\"\n",
    "        \"D 10\"\n",
    "        \"L 25\"\n",
    "        \"U 20\"\n",
    "    |]\n",
    "    |> Array.map parseLine\n",
    "\n",
    "let largeTestResult = Rope2.starting 10 |> Rope2.applyMoves largeTest\n",
    "\n",
    "//Rope2.lastVisitedCount largeTestResult |> shouldEqual 36"
   ]
  },
  {
   "cell_type": "code",
   "execution_count": 55,
   "metadata": {
    "dotnet_interactive": {
     "language": "fsharp"
    },
    "vscode": {
     "languageId": "dotnet-interactive.fsharp"
    }
   },
   "outputs": [
    {
     "data": {
      "text/html": [
       "<table><thead><tr><th>Knots</th></tr></thead><tbody><tr><td><div class=\"dni-plaintext\">[ { { Position = (-11, 15)\n",
       "  History =\n",
       "   [(-11, 15); (-11, 14); (-11, 13); (-11, 12); (-11, 11); (-11, 10); (-11, 9);\n",
       "    (-11, 8); (-11, 7); (-11, 6); (-11, 5); (-11, 4); (-11, 3); (-11, 2);\n",
       "    (-11, 1); (-11, 0); (-11, -1); (-11, -2); (-11, -3); (-11, -4); (-11, -5);\n",
       "    (-10, -5); (-9, -5); (-8, -5); (-7, -5); (-6, -5); (-5, -5); (-4, -5);\n",
       "    (-3, -5); (-2, -5); (-1, -5); (0, -5); (1, -5); (2, -5); (3, -5); (4, -5);\n",
       "    (5, -5); (6, -5); (7, -5); (8, -5); (9, -5); (10, -5); (11, -5); (12, -5);\n",
       "    (13, -5); (14, -5); (14, -4); (14, -3); (14, -2); (14, -1); (14, 0); (14, 1);\n",
       "    (14, 2); (14, 3); (14, 4); (14, 5); (13, 5); (12, 5); (11, 5); (10, 5);\n",
       "    (9, 5); (8, 5); (7, 5); (6, 5); (5, 5); (4, 5); (3, 5); (2, 5); (1, 5);\n",
       "    (0, 5); (-1, 5); (-2, 5); (-3, 5); (-3, 6); (-3, 7); (-3, 8); (-2, 8);\n",
       "    (-1, 8); (0, 8); (1, 8); (2, 8); (3, 8); (4, 8); (5, 8); (5, 7); (5, 6);\n",
       "    (5, 5); (5, 4); (5, 3); (5, 2); (5, 1); (5, 0); (4, 0); (3, 0); (2, 0);\n",
       "    (1, 0); (0, 0)] }: Position: ( -11, 15 ), History: [ ( -11, 15 ), ( -11, 14 ), ( -11, 13 ), ( -11, 12 ), ( -11, 11 ), ( -11, 10 ), ( -11, 9 ), ( -11, 8 ), ( -11, 7 ), ( -11, 6 ), ( -11, 5 ), ( -11, 4 ), ( -11, 3 ), ( -11, 2 ), ( -11, 1 ), ( -11, 0 ), ( -11, -1 ), ( -11, -2 ), ( -11, -3 ), ( -11, -4 ) ... (more) ] }, { { Position = (-11, 14)\n",
       "  History =\n",
       "   [(-11, 14); (-11, 13); (-11, 12); (-11, 11); (-11, 10); (-11, 9); (-11, 8);\n",
       "    (-11, 7); (-11, 6); (-11, 5); (-11, 4); (-11, 3); (-11, 2); (-11, 1);\n",
       "    (-11, 0); (-11, -1); (-11, -2); (-11, -3); (-11, -4); (-10, -5); (-9, -5);\n",
       "    (-8, -5); (-7, -5); (-6, -5); (-5, -5); (-4, -5); (-3, -5); (-2, -5);\n",
       "    (-1, -5); (0, -5); (1, -5); (2, -5); (3, -5); (4, -5); (5, -5); (6, -5);\n",
       "    (7, -5); (8, -5); (9, -5); (10, -5); (11, -5); (12, -5); (13, -5); (14, -4);\n",
       "    (14, -3); (14, -2); (14, -1); (14, 0); (14, 1); (14, 2); (14, 3); (14, 4);\n",
       "    (13, 5); (12, 5); (11, 5); (10, 5); (9, 5); (8, 5); (7, 5); (6, 5); (5, 5);\n",
       "    (4, 5); (3, 5); (2, 5); (1, 5); (0, 5); (-1, 5); (-2, 5); (-3, 6); (-3, 7);\n",
       "    (-2, 8); (-1, 8); (0, 8); (1, 8); (2, 8); (3, 8); (4, 8); (5, 7); (5, 6);\n",
       "    (5, 5); (5, 4); (5, 3); (5, 2); (5, 1); (4, 0); (3, 0); (2, 0); (1, 0);\n",
       "    (0, 0)] }: Position: ( -11, 14 ), History: [ ( -11, 14 ), ( -11, 13 ), ( -11, 12 ), ( -11, 11 ), ( -11, 10 ), ( -11, 9 ), ( -11, 8 ), ( -11, 7 ), ( -11, 6 ), ( -11, 5 ), ( -11, 4 ), ( -11, 3 ), ( -11, 2 ), ( -11, 1 ), ( -11, 0 ), ( -11, -1 ), ( -11, -2 ), ( -11, -3 ), ( -11, -4 ), ( -10, -5 ) ... (more) ] }, { { Position = (-11, 12)\n",
       "  History =\n",
       "   [(-11, 12); (-11, 11); (-11, 10); (-11, 9); (-11, 8); (-11, 7); (-11, 6);\n",
       "    (-11, 5); (-11, 4); (-11, 3); (-11, 2); (-11, 1); (-11, 0); (-11, -1);\n",
       "    (-11, -2); (-11, -3); (-10, -4); (-9, -5); (-8, -5); (-7, -5); (-6, -5);\n",
       "    (-5, -5); (-4, -5); (-3, -5); (-2, -5); (-1, -5); (0, -5); (1, -5); (2, -5);\n",
       "    (3, -5); (4, -5); (5, -5); (6, -5); (7, -5); (8, -5); (9, -5); (10, -5);\n",
       "    (11, -5); (12, -5); (13, -4); (14, -3); (14, -2); (14, -1); (14, 0); (14, 1);\n",
       "    (14, 2); (14, 3); (13, 4); (12, 5); (11, 5); (10, 5); (9, 5); (8, 5); (7, 5);\n",
       "    (6, 5); (5, 5); (4, 5); (3, 5); (2, 5); (1, 5); (0, 5); (-1, 5); (-2, 6);\n",
       "    (-2, 7); (-1, 8); (0, 8); (1, 8); (2, 8); (3, 8); (4, 7); (5, 6); (5, 5);\n",
       "    (5, 4); (5, 3); (5, 2); (4, 1); (3, 0); (2, 0); (1, 0); (0, 0)] }: Position: ( -11, 12 ), History: [ ( -11, 12 ), ( -11, 11 ), ( -11, 10 ), ( -11, 9 ), ( -11, 8 ), ( -11, 7 ), ( -11, 6 ), ( -11, 5 ), ( -11, 4 ), ( -11, 3 ), ( -11, 2 ), ( -11, 1 ), ( -11, 0 ), ( -11, -1 ), ( -11, -2 ), ( -11, -3 ), ( -10, -4 ), ( -9, -5 ), ( -8, -5 ), ( -7, -5 ) ... (more) ] }, { { Position = (-11, 10)\n",
       "  History =\n",
       "   [(-11, 10); (-11, 9); (-11, 8); (-11, 7); (-11, 6); (-11, 5); (-11, 4);\n",
       "    (-11, 3); (-11, 2); (-11, 1); (-11, 0); (-11, -1); (-11, -2); (-10, -3);\n",
       "    (-9, -4); (-8, -5); (-7, -5); (-6, -5); (-5, -5); (-4, -5); (-3, -5);\n",
       "    (-2, -5); (-1, -5); (0, -5); (1, -5); (2, -5); (3, -5); (4, -5); (5, -5);\n",
       "    (6, -5); (7, -5); (8, -5); (9, -5); (10, -5); (11, -5); (12, -4); (13, -3);\n",
       "    (14, -2); (14, -1); (14, 0); (14, 1); (14, 2); (13, 3); (12, 4); (11, 5);\n",
       "    (10, 5); (9, 5); (8, 5); (7, 5); (6, 5); (5, 5); (4, 5); (3, 5); (2, 5);\n",
       "    (1, 5); (0, 5); (-1, 6); (-1, 7); (0, 8); (1, 8); (2, 8); (3, 7); (4, 6);\n",
       "    (5, 5); (5, 4); (5, 3); (4, 2); (3, 1); (2, 0); (1, 0); (0, 0)] }: Position: ( -11, 10 ), History: [ ( -11, 10 ), ( -11, 9 ), ( -11, 8 ), ( -11, 7 ), ( -11, 6 ), ( -11, 5 ), ( -11, 4 ), ( -11, 3 ), ( -11, 2 ), ( -11, 1 ), ( -11, 0 ), ( -11, -1 ), ( -11, -2 ), ( -10, -3 ), ( -9, -4 ), ( -8, -5 ), ( -7, -5 ), ( -6, -5 ), ( -5, -5 ), ( -4, -5 ) ... (more) ] }, { { Position = (-11, 8)\n",
       "  History =\n",
       "   [(-11, 8); (-11, 7); (-11, 6); (-11, 5); (-11, 4); (-11, 3); (-11, 2);\n",
       "    (-11, 1); (-11, 0); (-11, -1); (-10, -2); (-9, -3); (-8, -4); (-7, -5);\n",
       "    (-6, -5); (-5, -5); (-4, -5); (-3, -5); (-2, -5); (-1, -5); (0, -5); (1, -5);\n",
       "    (2, -5); (3, -5); (4, -5); (5, -5); (6, -5); (7, -5); (8, -5); (9, -5);\n",
       "    (10, -5); (11, -4); (12, -3); (13, -2); (14, -1); (14, 0); (14, 1); (13, 2);\n",
       "    (12, 3); (11, 4); (10, 5); (9, 5); (8, 5); (7, 5); (6, 5); (5, 5); (4, 5);\n",
       "    (3, 5); (2, 5); (1, 5); (0, 6); (0, 7); (1, 8); (2, 7); (3, 6); (4, 5);\n",
       "    (5, 4); (4, 3); (3, 2); (2, 1); (1, 0); (0, 0)] }: Position: ( -11, 8 ), History: [ ( -11, 8 ), ( -11, 7 ), ( -11, 6 ), ( -11, 5 ), ( -11, 4 ), ( -11, 3 ), ( -11, 2 ), ( -11, 1 ), ( -11, 0 ), ( -11, -1 ), ( -10, -2 ), ( -9, -3 ), ( -8, -4 ), ( -7, -5 ), ( -6, -5 ), ( -5, -5 ), ( -4, -5 ), ( -3, -5 ), ( -2, -5 ), ( -1, -5 ) ... (more) ] }, { { Position = (-11, 6)\n",
       "  History =\n",
       "   [(-11, 6); (-11, 5); (-11, 4); (-11, 3); (-11, 2); (-11, 1); (-11, 0);\n",
       "    (-10, -1); (-9, -2); (-8, -3); (-7, -4); (-6, -5); (-5, -5); (-4, -5);\n",
       "    (-3, -5); (-2, -5); (-1, -5); (0, -5); (1, -5); (2, -5); (3, -5); (4, -5);\n",
       "    (5, -5); (6, -5); (7, -5); (8, -5); (9, -5); (10, -4); (11, -3); (12, -2);\n",
       "    (13, -1); (14, 0); (13, 1); (12, 2); (11, 3); (10, 4); (9, 5); (8, 5);\n",
       "    (7, 5); (6, 5); (5, 5); (4, 5); (3, 5); (2, 5); (1, 6); (1, 7); (2, 6);\n",
       "    (3, 5); (4, 4); (3, 3); (2, 2); (1, 1); (0, 0)] }: Position: ( -11, 6 ), History: [ ( -11, 6 ), ( -11, 5 ), ( -11, 4 ), ( -11, 3 ), ( -11, 2 ), ( -11, 1 ), ( -11, 0 ), ( -10, -1 ), ( -9, -2 ), ( -8, -3 ), ( -7, -4 ), ( -6, -5 ), ( -5, -5 ), ( -4, -5 ), ( -3, -5 ), ( -2, -5 ), ( -1, -5 ), ( 0, -5 ), ( 1, -5 ), ( 2, -5 ) ... (more) ] }, { { Position = (-11, 4)\n",
       "  History =\n",
       "   [(-11, 4); (-11, 3); (-11, 2); (-11, 1); (-10, 0); (-9, -1); (-8, -2);\n",
       "    (-7, -3); (-6, -4); (-5, -5); (-4, -5); (-3, -5); (-2, -5); (-1, -5);\n",
       "    (0, -5); (1, -5); (2, -5); (3, -5); (4, -5); (5, -5); (6, -5); (7, -5);\n",
       "    (8, -5); (9, -4); (10, -3); (11, -2); (12, -1); (13, 0); (12, 1); (11, 2);\n",
       "    (10, 3); (9, 4); (8, 5); (7, 5); (6, 5); (5, 5); (4, 5); (3, 5); (2, 5);\n",
       "    (1, 6); (2, 5); (3, 4); (3, 3); (2, 2); (1, 1); (0, 0)] }: Position: ( -11, 4 ), History: [ ( -11, 4 ), ( -11, 3 ), ( -11, 2 ), ( -11, 1 ), ( -10, 0 ), ( -9, -1 ), ( -8, -2 ), ( -7, -3 ), ( -6, -4 ), ( -5, -5 ), ( -4, -5 ), ( -3, -5 ), ( -2, -5 ), ( -1, -5 ), ( 0, -5 ), ( 1, -5 ), ( 2, -5 ), ( 3, -5 ), ( 4, -5 ), ( 5, -5 ) ... (more) ] }, { { Position = (-11, 2)\n",
       "  History =\n",
       "   [(-11, 2); (-10, 1); (-9, 0); (-8, -1); (-7, -2); (-6, -3); (-5, -4);\n",
       "    (-4, -5); (-3, -5); (-2, -5); (-1, -5); (0, -5); (1, -5); (2, -5); (3, -5);\n",
       "    (4, -5); (5, -5); (6, -5); (7, -5); (8, -4); (9, -3); (10, -2); (11, -1);\n",
       "    (12, 0); (11, 1); (10, 2); (9, 3); (8, 4); (7, 5); (6, 5); (5, 5); (4, 5);\n",
       "    (3, 5); (2, 5); (1, 5); (2, 4); (3, 3); (2, 2); (1, 1); (0, 0)] }: Position: ( -11, 2 ), History: [ ( -11, 2 ), ( -10, 1 ), ( -9, 0 ), ( -8, -1 ), ( -7, -2 ), ( -6, -3 ), ( -5, -4 ), ( -4, -5 ), ( -3, -5 ), ( -2, -5 ), ( -1, -5 ), ( 0, -5 ), ( 1, -5 ), ( 2, -5 ), ( 3, -5 ), ( 4, -5 ), ( 5, -5 ), ( 6, -5 ), ( 7, -5 ), ( 8, -4 ) ... (more) ] }, { { Position = (-9, 1)\n",
       "  History =\n",
       "   [(-9, 1); (-8, 0); (-7, -1); (-6, -2); (-5, -3); (-4, -4); (-3, -5); (-2, -5);\n",
       "    (-1, -5); (0, -5); (1, -5); (2, -5); (3, -5); (4, -5); (5, -5); (6, -5);\n",
       "    (7, -4); (8, -3); (9, -2); (10, -1); (11, 0); (10, 1); (9, 2); (8, 3);\n",
       "    (7, 4); (6, 5); (5, 5); (4, 5); (3, 5); (2, 5); (1, 4); (2, 3); (2, 2);\n",
       "    (1, 1); (0, 0)] }: Position: ( -9, 1 ), History: [ ( -9, 1 ), ( -8, 0 ), ( -7, -1 ), ( -6, -2 ), ( -5, -3 ), ( -4, -4 ), ( -3, -5 ), ( -2, -5 ), ( -1, -5 ), ( 0, -5 ), ( 1, -5 ), ( 2, -5 ), ( 3, -5 ), ( 4, -5 ), ( 5, -5 ), ( 6, -5 ), ( 7, -4 ), ( 8, -3 ), ( 9, -2 ), ( 10, -1 ) ... (more) ] }, { { Position = (-8, 1)\n",
       "  History =\n",
       "   [(-8, 1); (-7, 0); (-6, -1); (-5, -2); (-4, -3); (-3, -4); (-2, -5); (-1, -5);\n",
       "    (0, -5); (1, -5); (2, -5); (3, -5); (4, -5); (5, -5); (6, -4); (7, -3);\n",
       "    (8, -2); (9, -1); (10, 0); (9, 1); (8, 2); (7, 3); (6, 4); (5, 5); (4, 5);\n",
       "    (3, 5); (2, 4); (1, 3); (2, 2); (1, 1); (0, 0)] }: Position: ( -8, 1 ), History: [ ( -8, 1 ), ( -7, 0 ), ( -6, -1 ), ( -5, -2 ), ( -4, -3 ), ( -3, -4 ), ( -2, -5 ), ( -1, -5 ), ( 0, -5 ), ( 1, -5 ), ( 2, -5 ), ( 3, -5 ), ( 4, -5 ), ( 5, -5 ), ( 6, -4 ), ( 7, -3 ), ( 8, -2 ), ( 9, -1 ), ( 10, 0 ), ( 9, 1 ) ... (more) ] } ]</div></td></tr></tbody></table>"
      ]
     },
     "metadata": {},
     "output_type": "display_data"
    }
   ],
   "source": [
    "largeTestResult"
   ]
  },
  {
   "cell_type": "code",
   "execution_count": 50,
   "metadata": {
    "dotnet_interactive": {
     "language": "fsharp"
    },
    "vscode": {
     "languageId": "dotnet-interactive.fsharp"
    }
   },
   "outputs": [],
   "source": [
    "let result = \n",
    "    Rope2.starting 10\n",
    "    |> Rope2.applyMoves moves\n",
    "    |> Rope2.lastVisitedCount"
   ]
  },
  {
   "cell_type": "code",
   "execution_count": 51,
   "metadata": {
    "dotnet_interactive": {
     "language": "fsharp"
    },
    "vscode": {
     "languageId": "dotnet-interactive.fsharp"
    }
   },
   "outputs": [
    {
     "name": "stdout",
     "output_type": "stream",
     "text": [
      "Tail visited 2687 spaces\r\n"
     ]
    }
   ],
   "source": [
    "printfn \"Tail visited %d spaces\" result"
   ]
  }
 ],
 "metadata": {
  "kernelspec": {
   "display_name": ".NET (F#)",
   "language": "F#",
   "name": ".net-fsharp"
  },
  "language_info": {
   "name": "F#"
  }
 },
 "nbformat": 4,
 "nbformat_minor": 2
}

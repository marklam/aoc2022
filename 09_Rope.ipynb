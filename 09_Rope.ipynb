{
 "cells": [
  {
   "cell_type": "code",
   "execution_count": 38,
   "metadata": {
    "dotnet_interactive": {
     "language": "fsharp"
    },
    "polyglot_notebook": {
     "language": "fsharp"
    },
    "vscode": {
     "languageId": "dotnet-interactive.fsharp"
    }
   },
   "outputs": [],
   "source": [
    "type Direction = | Up | Down | Left | Right\n",
    "\n",
    "type Move = \n",
    "    { \n",
    "        Direction : Direction\n",
    "        Steps : int \n",
    "    }\n",
    "\n",
    "type Rope = \n",
    "    {\n",
    "        Head : int*int\n",
    "        Tail : int*int\n",
    "        TailVisited : (int*int) list\n",
    "    }\n",
    "\n",
    "module Rope =\n",
    "    let starting = { Head = (0,0); Tail = (0,0); TailVisited = [(0,0)] }\n",
    "\n",
    "    let moveHead dir rope =\n",
    "        let (x,y) = rope.Head\n",
    "        match dir with\n",
    "        | Up -> { rope with Head = (x, y + 1) }\n",
    "        | Down -> { rope with Head = (x, y - 1) }\n",
    "        | Left -> { rope with Head = (x - 1, y) }\n",
    "        | Right -> { rope with Head = (x + 1, y) }        \n",
    "\n",
    "    let moveTail rope =\n",
    "        let (hx, hy) = rope.Head\n",
    "        let (tx, ty) = rope.Tail\n",
    "        let (dx, dy) = (hx-tx, hy-ty)\n",
    "        if (abs dx <= 1) && (abs dy <= 1) then\n",
    "            rope // ends are next to each other\n",
    "        else\n",
    "            let t' = (tx + sign dx, ty + sign dy) // move one space max\n",
    "            { rope with Tail = t'; TailVisited = t'::rope.TailVisited }\n",
    "\n",
    "    let rec applyMove move rope =\n",
    "        if move.Steps = 0 then\n",
    "            rope\n",
    "        else\n",
    "            rope\n",
    "            |> moveHead move.Direction\n",
    "            |> moveTail\n",
    "            |> applyMove { move with Steps = move.Steps-1 }\n",
    "\n",
    "    let applyMoves moves rope =\n",
    "        moves\n",
    "        |> Seq.fold (fun r m -> applyMove m r) rope\n",
    "\n",
    "    let visitedCount rope =\n",
    "        rope.TailVisited\n",
    "        |> List.distinct\n",
    "        |> List.length\n"
   ]
  },
  {
   "cell_type": "code",
   "execution_count": 39,
   "metadata": {
    "dotnet_interactive": {
     "language": "fsharp"
    },
    "vscode": {
     "languageId": "dotnet-interactive.fsharp"
    }
   },
   "outputs": [],
   "source": [
    "let parseLine (s : string) =\n",
    "    let steps = int (s.Substring(2))\n",
    "    let dir = \n",
    "        match s[0] with\n",
    "        | 'U' -> Up\n",
    "        | 'D' -> Down\n",
    "        | 'L' -> Left\n",
    "        | 'R' -> Right\n",
    "        | _ -> failwith \"Unrecognised direction\"\n",
    "    { Direction = dir; Steps = steps }\n"
   ]
  },
  {
   "cell_type": "code",
   "execution_count": 40,
   "metadata": {
    "dotnet_interactive": {
     "language": "fsharp"
    },
    "vscode": {
     "languageId": "dotnet-interactive.fsharp"
    }
   },
   "outputs": [
    {
     "data": {
      "text/html": [
       "<div><div></div><div></div><div><strong>Installed Packages</strong><ul><li><span>FsUnit, 5.1.0</span></li></ul></div></div>"
      ]
     },
     "metadata": {},
     "output_type": "display_data"
    }
   ],
   "source": [
    "#r \"nuget: FsUnit\"\n",
    "\n",
    "open FsUnitTyped\n",
    "\n",
    "let testInput = \n",
    "    [|\n",
    "        \"R 4\"\n",
    "        \"U 4\"\n",
    "        \"L 3\"\n",
    "        \"D 1\"\n",
    "        \"R 4\"\n",
    "        \"D 1\"\n",
    "        \"L 5\"\n",
    "        \"R 2\"\n",
    "    |]\n",
    "    |> Array.map parseLine\n",
    "\n",
    "let testResult = Rope.starting |> Rope.applyMoves testInput\n",
    "\n",
    "Rope.visitedCount testResult |> shouldEqual 13"
   ]
  },
  {
   "cell_type": "code",
   "execution_count": 41,
   "metadata": {
    "dotnet_interactive": {
     "language": "fsharp"
    },
    "vscode": {
     "languageId": "dotnet-interactive.fsharp"
    }
   },
   "outputs": [],
   "source": [
    "open System.IO\n",
    "\n",
    "let sourcePath = Path.Combine(__SOURCE_DIRECTORY__, \"input_09.txt\")\n",
    "let moves = \n",
    "    File.ReadAllLines(sourcePath)\n",
    "    |> Array.map parseLine\n",
    "\n",
    "let result = \n",
    "    Rope.starting\n",
    "    |> Rope.applyMoves moves\n",
    "    |> Rope.visitedCount"
   ]
  },
  {
   "cell_type": "code",
   "execution_count": null,
   "metadata": {
    "dotnet_interactive": {
     "language": "fsharp"
    },
    "vscode": {
     "languageId": "dotnet-interactive.fsharp"
    }
   },
   "outputs": [],
   "source": [
    "printfn \"Tail visited %d spaces\" result"
   ]
  }
 ],
 "metadata": {
  "kernelspec": {
   "display_name": ".NET (F#)",
   "language": "F#",
   "name": ".net-fsharp"
  },
  "language_info": {
   "name": "F#"
  }
 },
 "nbformat": 4,
 "nbformat_minor": 2
}

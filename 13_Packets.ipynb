{
 "cells": [
  {
   "cell_type": "code",
   "execution_count": null,
   "metadata": {
    "dotnet_interactive": {
     "language": "fsharp"
    },
    "polyglot_notebook": {
     "kernelName": "fsharp"
    }
   },
   "outputs": [],
   "source": [
    "#r \"nuget: FParsec\"\n",
    "\n",
    "open FParsec\n",
    "\n",
    "type PacketItem = | Value of int | Packet of PacketItem list\n",
    "\n",
    "let pnumber = pint32 |>> Value\n",
    "let pitem, pitemRef = createParserForwardedToRef<PacketItem, unit>()\n",
    "pitemRef.Value <- pstring \"[\" >>. (sepBy (choice [ pnumber; pitem ]) (pstring \",\")) .>> pstring \"]\" |>> Packet\n",
    "\n",
    "let ppair = tuple2 (pitem .>> newline) (pitem .>> newline)\n",
    "\n",
    "let ppairs = sepBy ppair newline\n",
    "\n",
    "let parsePairs str =\n",
    "    match run ppairs str with\n",
    "    | Success(result, _, _) -> result\n",
    "    | Failure(errorMsg, _, _) -> failwith errorMsg\n"
   ]
  },
  {
   "cell_type": "code",
   "execution_count": null,
   "metadata": {
    "dotnet_interactive": {
     "language": "fsharp"
    },
    "polyglot_notebook": {
     "kernelName": "fsharp"
    }
   },
   "outputs": [],
   "source": [
    "#r \"nuget: FsUnit\"\n",
    "open FsUnitTyped\n",
    "\n",
    "let test p str =\n",
    "    match run p str with\n",
    "    | Success(result, _, _)   -> Result.Ok result\n",
    "    | Failure(errorMsg, _, _) -> Result.Error errorMsg\n",
    "\n",
    "test pitem \"[1]\" |> shouldEqual (Result.Ok (Packet [Value 1]))\n",
    "test pitem \"[1,2]\" |> shouldEqual (Result.Ok (Packet [Value 1; Value 2]))\n",
    "test pitem \"[1,2,[3,4]]\" |> shouldEqual (Result.Ok (Packet [Value 1; Value 2; Packet [ Value 3; Value 4]]))\n",
    "\n",
    "test ppair \"[1,2]\\n[3,4]\\n\" |> shouldEqual (Result.Ok (Packet [Value 1; Value 2], Packet [Value 3; Value 4]))\n",
    "test ppairs \"[1,2]\\n[3,4]\\n\\n[5,6]\\n[7,8]\\n\" |> shouldEqual (Result.Ok [(Packet [Value 1; Value 2], Packet [Value 3; Value 4]); (Packet [Value 5; Value 6], Packet [Value 7; Value 8])])"
   ]
  },
  {
   "cell_type": "code",
   "execution_count": null,
   "metadata": {
    "dotnet_interactive": {
     "language": "fsharp"
    },
    "polyglot_notebook": {
     "kernelName": "fsharp"
    }
   },
   "outputs": [],
   "source": [
    "//Comparisons\n",
    "type ComparisonResult = | LeftSmaller | Draw | RightSmaller\n",
    "let rec compare x y =\n",
    "    match x,y with\n",
    "    | Value _, Packet _ ->\n",
    "        compare (Packet [x]) y\n",
    "    | Packet _, Value _ ->\n",
    "        compare x (Packet [y])\n",
    "    | Value v1, Value v2 -> \n",
    "        if v1 = v2 then\n",
    "            Draw\n",
    "        elif v1 < v2 then\n",
    "            LeftSmaller\n",
    "        else \n",
    "            RightSmaller\n",
    "    | Packet (j::js), Packet (k::ks) ->\n",
    "        match compare j k with\n",
    "        | Draw -> compare (Packet js) (Packet ks)\n",
    "        | c -> c\n",
    "    | Packet [], Packet [] ->\n",
    "        Draw\n",
    "    | Packet [], Packet _ ->\n",
    "        LeftSmaller\n",
    "    | Packet _, Packet [] ->\n",
    "        RightSmaller\n"
   ]
  },
  {
   "cell_type": "code",
   "execution_count": null,
   "metadata": {
    "dotnet_interactive": {
     "language": "fsharp"
    },
    "polyglot_notebook": {
     "kernelName": "fsharp"
    }
   },
   "outputs": [],
   "source": [
    "let testData =\n",
    "    \"\"\"[1,1,3,1,1]\n",
    "[1,1,5,1,1]\n",
    "\n",
    "[[1],[2,3,4]]\n",
    "[[1],4]\n",
    "\n",
    "[9]\n",
    "[[8,7,6]]\n",
    "\n",
    "[[4,4],4,4]\n",
    "[[4,4],4,4,4]\n",
    "\n",
    "[7,7,7,7]\n",
    "[7,7,7]\n",
    "\n",
    "[]\n",
    "[3]\n",
    "\n",
    "[[[]]]\n",
    "[[]]\n",
    "\n",
    "[1,[2,[3,[4,[5,6,7]]]],8,9]\n",
    "[1,[2,[3,[4,[5,6,0]]]],8,9]\n",
    "\"\"\"\n",
    "\n",
    "let testPairs = testData |> parsePairs\n",
    "\n",
    "testPairs |> List.item 0 ||> compare |> shouldEqual LeftSmaller\n",
    "testPairs |> List.item 1 ||> compare |> shouldEqual LeftSmaller\n",
    "testPairs |> List.item 2 ||> compare |> shouldEqual RightSmaller\n",
    "testPairs |> List.item 3 ||> compare |> shouldEqual LeftSmaller\n",
    "testPairs |> List.item 4 ||> compare |> shouldEqual RightSmaller\n",
    "testPairs |> List.item 5 ||> compare |> shouldEqual LeftSmaller\n",
    "testPairs |> List.item 6 ||> compare |> shouldEqual RightSmaller\n",
    "testPairs |> List.item 7 ||> compare |> shouldEqual RightSmaller"
   ]
  },
  {
   "cell_type": "code",
   "execution_count": null,
   "metadata": {
    "dotnet_interactive": {
     "language": "fsharp"
    },
    "polyglot_notebook": {
     "kernelName": "fsharp"
    }
   },
   "outputs": [],
   "source": [
    "open System.IO\n",
    "\n",
    "let sourcePath = Path.Combine(__SOURCE_DIRECTORY__, \"input_13.txt\")\n",
    "let packets = \n",
    "    File.ReadAllText(sourcePath)\n",
    "\n",
    "let pairs = packets |> parsePairs\n",
    "\n",
    "let correctIndexes =\n",
    "    pairs\n",
    "    |> List.mapi (fun i p -> (i+1, p ||> compare))\n",
    "    |> List.filter (fun (i,c) -> c = LeftSmaller)\n",
    "\n",
    "let sum = correctIndexes |> List.sumBy fstopen System.IO\n",
    "\n",
    "let sourcePath = Path.Combine(__SOURCE_DIRECTORY__, \"input_13.txt\")\n",
    "let packets = \n",
    "    File.ReadAllText(sourcePath)\n",
    "\n",
    "let pairs = packets |> parsePairs\n",
    "\n",
    "let correctIndexes =\n",
    "    pairs\n",
    "    |> List.mapi (fun i p -> (i+1, p ||> compare))\n",
    "    |> List.filter (fun (i,c) -> c = LeftSmaller)\n",
    "\n",
    "let sum = correctIndexes |> List.sumBy fst"
   ]
  },
  {
   "cell_type": "code",
   "execution_count": null,
   "metadata": {
    "dotnet_interactive": {
     "language": "fsharp"
    },
    "polyglot_notebook": {
     "kernelName": "fsharp"
    }
   },
   "outputs": [],
   "source": [
    "printfn \"Sum of correct indexes %d\" sum"
   ]
  },
  {
   "attachments": {},
   "cell_type": "markdown",
   "metadata": {
    "dotnet_interactive": {
     "language": "fsharp"
    },
    "polyglot_notebook": {
     "kernelName": "fsharp"
    }
   },
   "source": [
    "## Part 2"
   ]
  },
  {
   "cell_type": "code",
   "execution_count": null,
   "metadata": {
    "dotnet_interactive": {
     "language": "fsharp"
    },
    "polyglot_notebook": {
     "kernelName": "fsharp"
    }
   },
   "outputs": [],
   "source": [
    "let comparator x y = \n",
    "    match compare x y with\n",
    "    | Draw -> 0\n",
    "    | LeftSmaller -> -1\n",
    "    | RightSmaller -> +1\n",
    "\n",
    "let divider1 = Packet [ Packet [ Value 2 ] ]\n",
    "let divider2 = Packet [ Packet [ Value 6 ] ]\n",
    "\n",
    "let sortWithDividers pairs =\n",
    "    pairs \n",
    "    |> List.collect (fun (p1,p2) -> [p1; p2])\n",
    "    |> List.append [divider1; divider2]\n",
    "    |> List.sortWith comparator\n",
    "\n",
    "let dividerPositions sorted =\n",
    "    let p1 = sorted |> List.findIndex ((=) divider1)\n",
    "    let p2 = sorted |> List.findIndex ((=) divider2)\n",
    "    (p1 + 1, p2 + 1)"
   ]
  },
  {
   "cell_type": "code",
   "execution_count": null,
   "metadata": {
    "dotnet_interactive": {
     "language": "fsharp"
    },
    "polyglot_notebook": {
     "kernelName": "fsharp"
    }
   },
   "outputs": [],
   "source": [
    "let sorted = sortWithDividers testPairs\n",
    "dividerPositions sorted |> shouldEqual (10, 14)"
   ]
  },
  {
   "cell_type": "code",
   "execution_count": null,
   "metadata": {
    "dotnet_interactive": {
     "language": "fsharp"
    },
    "polyglot_notebook": {
     "kernelName": "fsharp"
    }
   },
   "outputs": [],
   "source": [
    "let decoderKey = \n",
    "    pairs\n",
    "    |> sortWithDividers\n",
    "    |> dividerPositions \n",
    "    |> (fun (a,b) -> a * b)\n",
    "\n",
    "printfn \"Decoder key %d\" decoderKey"
   ]
  }
 ],
 "metadata": {
  "kernelspec": {
   "display_name": ".NET (F#)",
   "language": "F#",
   "name": ".net-fsharp"
  },
  "polyglot_notebook": {
   "kernelInfo": {
    "defaultKernelName": "fsharp",
    "items": [
     {
      "aliases": [
       "f#",
       "F#"
      ],
      "languageName": "F#",
      "name": "fsharp"
     },
     {
      "aliases": [],
      "languageName": null,
      "name": ".NET"
     },
     {
      "aliases": [],
      "languageName": "Mermaid",
      "name": "mermaid"
     },
     {
      "aliases": [
       "frontend"
      ],
      "name": "vscode"
     },
     {
      "aliases": [],
      "languageName": "SQL",
      "name": "sql"
     },
     {
      "aliases": [
       "js"
      ],
      "languageName": "JavaScript",
      "name": "javascript"
     },
     {
      "aliases": [],
      "name": "webview"
     }
    ]
   }
  }
 },
 "nbformat": 4,
 "nbformat_minor": 2
}

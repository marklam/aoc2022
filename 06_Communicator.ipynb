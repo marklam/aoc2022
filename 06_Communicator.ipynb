{
 "cells": [
  {
   "cell_type": "code",
   "execution_count": 4,
   "metadata": {
    "dotnet_interactive": {
     "language": "fsharp"
    },
    "polyglot_notebook": {
     "language": "fsharp"
    },
    "vscode": {
     "languageId": "dotnet-interactive.fsharp"
    }
   },
   "outputs": [],
   "source": [
    "let allDifferent xs =\n",
    "    (xs |> Array.distinct).Length = xs.Length\n",
    "\n",
    "let signalPosition input =\n",
    "    let diffWindowPos =\n",
    "        input \n",
    "        |> Seq.windowed 4\n",
    "        |> Seq.findIndex allDifferent\n",
    "    \n",
    "    4 + diffWindowPos // window 0 finishes at character 4"
   ]
  },
  {
   "cell_type": "code",
   "execution_count": 5,
   "metadata": {
    "dotnet_interactive": {
     "language": "fsharp"
    },
    "vscode": {
     "languageId": "dotnet-interactive.fsharp"
    }
   },
   "outputs": [
    {
     "data": {
      "text/html": [
       "<div><div></div><div></div><div><strong>Installed Packages</strong><ul><li><span>FsUnit, 5.1.0</span></li></ul></div></div>"
      ]
     },
     "metadata": {},
     "output_type": "display_data"
    }
   ],
   "source": [
    "#r \"nuget: FsUnit\"\n",
    "\n",
    "open FsUnitTyped\n",
    "\n",
    "\"bvwbjplbgvbhsrlpgdmjqwftvncz\" |> signalPosition |> shouldEqual  5\n",
    "\"nppdvjthqldpwncqszvftbrmjlhg\" |> signalPosition |> shouldEqual  6\n",
    "\"nznrnfrfntjfmvfwmzdfjlvtqnbhcprsg\"|> signalPosition |> shouldEqual 10\n",
    "\"zcfzfwzzqfrljwzlrfnpqdbhtmscgvjw\" |> signalPosition |> shouldEqual 11"
   ]
  },
  {
   "cell_type": "code",
   "execution_count": 6,
   "metadata": {
    "dotnet_interactive": {
     "language": "fsharp"
    },
    "vscode": {
     "languageId": "dotnet-interactive.fsharp"
    }
   },
   "outputs": [],
   "source": [
    "open System.IO\n",
    "\n",
    "let sourcePath = Path.Combine(__SOURCE_DIRECTORY__, \"input_06.txt\")\n",
    "\n",
    "let communication = File.ReadAllText(sourcePath)\n",
    "\n",
    "let result = communication |> signalPosition"
   ]
  },
  {
   "cell_type": "code",
   "execution_count": null,
   "metadata": {
    "dotnet_interactive": {
     "language": "fsharp"
    },
    "vscode": {
     "languageId": "dotnet-interactive.fsharp"
    }
   },
   "outputs": [],
   "source": [
    "printfn \"Signal at character %d\" result"
   ]
  }
 ],
 "metadata": {
  "kernelspec": {
   "display_name": ".NET (F#)",
   "language": "F#",
   "name": ".net-fsharp"
  },
  "language_info": {
   "name": "F#"
  }
 },
 "nbformat": 4,
 "nbformat_minor": 2
}

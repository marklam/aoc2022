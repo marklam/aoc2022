{
 "cells": [
  {
   "cell_type": "code",
   "execution_count": 2,
   "metadata": {
    "dotnet_interactive": {
     "language": "fsharp"
    },
    "polyglot_notebook": {
     "language": "fsharp"
    },
    "vscode": {
     "languageId": "dotnet-interactive.fsharp"
    }
   },
   "outputs": [],
   "source": [
    "let lineHalves (line : string) =\n",
    "    let len = line.Length / 2\n",
    "    line.Substring(0, len), line.Substring(len, len)\n",
    "\n",
    "let priority (c : char) =\n",
    "    if (c >= 'a') && (c <= 'z') then\n",
    "        int c - int 'a' + 1\n",
    "    elif (c >= 'A') && (c <= 'Z') then\n",
    "        int c - int 'A' + 27\n",
    "    else\n",
    "        failwith $\"Unrecognised item '{c}'\"\n",
    "\n",
    "let common xs ys =\n",
    "    Set.intersect (Set.ofSeq xs) (Set.ofSeq ys)\n",
    "    |> Set.toList\n",
    "\n",
    "let findMistake s =\n",
    "    s\n",
    "    |> lineHalves\n",
    "    ||> common\n",
    "    |> List.exactlyOne"
   ]
  },
  {
   "cell_type": "code",
   "execution_count": 4,
   "metadata": {
    "dotnet_interactive": {
     "language": "fsharp"
    },
    "vscode": {
     "languageId": "dotnet-interactive.fsharp"
    }
   },
   "outputs": [
    {
     "data": {
      "text/html": [
       "<div><div></div><div></div><div><strong>Installed Packages</strong><ul><li><span>FsUnit, 5.1.0</span></li></ul></div></div>"
      ]
     },
     "metadata": {},
     "output_type": "display_data"
    }
   ],
   "source": [
    "#r \"nuget:FsUnit\"\n",
    "open FsUnitTyped\n",
    "\n",
    "findMistake \"vJrwpWtwJgWrhcsFMMfFFhFp\" |> shouldEqual 'p'\n",
    "findMistake \"jqHRNqRjqzjGDLGLrsFMfFZSrLrFZsSL\" |> shouldEqual 'L'\n",
    "findMistake \"PmmdzqPrVvPwwTWBwg\" |> shouldEqual 'P'\n",
    "findMistake \"wMqvLMZHhHMvwLHjbvcjnnSBnvTQFn\" |> shouldEqual 'v'\n",
    "findMistake \"ttgJtRGJQctTZtZT\" |> shouldEqual 't'\n",
    "findMistake \"CrZsJsPPZsGzwwsLwLmpwMDw\" |> shouldEqual 's'\n",
    "\n",
    "priority 'p' |> shouldEqual 16\n",
    "priority 'L' |> shouldEqual 38"
   ]
  },
  {
   "cell_type": "code",
   "execution_count": 5,
   "metadata": {
    "dotnet_interactive": {
     "language": "fsharp"
    },
    "vscode": {
     "languageId": "dotnet-interactive.fsharp"
    }
   },
   "outputs": [],
   "source": [
    "open System.IO\n",
    "\n",
    "let sourcePath = Path.Combine(__SOURCE_DIRECTORY__, \"input.txt\")\n",
    "\n",
    "let rucksacks = File.ReadAllLines(sourcePath)\n",
    "\n",
    "let result =\n",
    "    rucksacks\n",
    "    |> Array.sumBy (findMistake >> priority)"
   ]
  },
  {
   "cell_type": "code",
   "execution_count": null,
   "metadata": {
    "dotnet_interactive": {
     "language": "fsharp"
    },
    "vscode": {
     "languageId": "dotnet-interactive.fsharp"
    }
   },
   "outputs": [],
   "source": [
    "printfn \"Sum of priorities of mistakes is %d\" result"
   ]
  }
 ],
 "metadata": {
  "kernelspec": {
   "display_name": ".NET (F#)",
   "language": "F#",
   "name": ".net-fsharp"
  },
  "language_info": {
   "name": "F#"
  }
 },
 "nbformat": 4,
 "nbformat_minor": 2
}

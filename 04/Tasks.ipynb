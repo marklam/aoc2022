{
 "cells": [
  {
   "cell_type": "code",
   "execution_count": 4,
   "metadata": {
    "dotnet_interactive": {
     "language": "fsharp"
    },
    "polyglot_notebook": {
     "language": "fsharp"
    },
    "vscode": {
     "languageId": "dotnet-interactive.fsharp"
    }
   },
   "outputs": [],
   "source": [
    "let parseRange (r : string) =\n",
    "    let ends = r.Split \"-\"\n",
    "    (int ends[0]), (int ends[1])\n",
    "\n",
    "let parseLine (s : string) =\n",
    "    let ranges = s.Split \",\"\n",
    "    (parseRange ranges[0]), (parseRange ranges[1])\n",
    "\n",
    "let rangeIsContained (range1, range2) =\n",
    "    let test (min1, max1) (min2, max2) =\n",
    "        min1 <= min2 && max1 >= max2\n",
    "    (test range1 range2) || (test range2 range1)"
   ]
  },
  {
   "cell_type": "code",
   "execution_count": 5,
   "metadata": {
    "dotnet_interactive": {
     "language": "fsharp"
    },
    "vscode": {
     "languageId": "dotnet-interactive.fsharp"
    }
   },
   "outputs": [
    {
     "data": {
      "text/html": [
       "<div><div></div><div></div><div><strong>Installed Packages</strong><ul><li><span>FsUnit, 5.1.0</span></li></ul></div></div>"
      ]
     },
     "metadata": {},
     "output_type": "display_data"
    }
   ],
   "source": [
    "#r \"nuget:FsUnit\"\n",
    "open FsUnitTyped\n",
    "\n",
    "\"2-4,6-8\" |> parseLine |> shouldEqual ((2,4), (6,8))\n",
    "\"2-3,4-5\" |> parseLine |> shouldEqual ((2,3), (4,5))\n",
    "\"5-7,7-9\" |> parseLine |> shouldEqual ((5,7), (7,9))\n",
    "\"2-8,3-7\" |> parseLine |> shouldEqual ((2,8), (3,7))\n",
    "\"6-6,4-6\" |> parseLine |> shouldEqual ((6,6), (4,6))\n",
    "\"2-6,4-8\" |> parseLine |> shouldEqual ((2,6), (4,8))\n",
    "\n",
    "//Some of the pairs have noticed that one of their assignments fully contains the other. For example, 2-8 fully contains 3-7, and 6-6 is fully contained by 4-6. \n",
    "\"2-4,6-8\" |> parseLine |> rangeIsContained |> shouldEqual false\n",
    "\"2-3,4-5\" |> parseLine |> rangeIsContained |> shouldEqual false\n",
    "\"5-7,7-9\" |> parseLine |> rangeIsContained |> shouldEqual false\n",
    "\"2-8,3-7\" |> parseLine |> rangeIsContained |> shouldEqual true\n",
    "\"6-6,4-6\" |> parseLine |> rangeIsContained |> shouldEqual true\n",
    "\"2-6,4-8\" |> parseLine |> rangeIsContained |> shouldEqual false\n"
   ]
  },
  {
   "cell_type": "code",
   "execution_count": null,
   "metadata": {
    "dotnet_interactive": {
     "language": "fsharp"
    },
    "vscode": {
     "languageId": "dotnet-interactive.fsharp"
    }
   },
   "outputs": [],
   "source": [
    "open System.IO\n",
    "\n",
    "let sourcePath = Path.Combine(__SOURCE_DIRECTORY__, \"input.txt\")\n",
    "\n",
    "let rucksacks = File.ReadAllLines(sourcePath)\n",
    "\n",
    "let result =\n",
    "    rucksacks\n",
    "    |> Array.sumBy (findMistake >> priority)"
   ]
  }
 ],
 "metadata": {
  "kernelspec": {
   "display_name": ".NET (F#)",
   "language": "F#",
   "name": ".net-fsharp"
  },
  "language_info": {
   "name": "F#"
  }
 },
 "nbformat": 4,
 "nbformat_minor": 2
}

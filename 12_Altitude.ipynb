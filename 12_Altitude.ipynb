{
 "cells": [
  {
   "cell_type": "code",
   "execution_count": 1,
   "metadata": {
    "dotnet_interactive": {
     "language": "fsharp"
    },
    "polyglot_notebook": {
     "kernelName": "fsharp"
    }
   },
   "outputs": [
    {
     "data": {
      "text/html": [
       "<div><div></div><div></div><div><strong>Installed Packages</strong><ul><li><span>FSharp.Collections.ParallelSeq, 1.2.0</span></li></ul></div></div>"
      ]
     },
     "metadata": {},
     "output_type": "display_data"
    }
   ],
   "source": [
    "#r \"nuget: FSharp.Collections.ParallelSeq\" \n",
    "\n",
    "open FSharp.Collections.ParallelSeq\n",
    "open System.Threading\n",
    "\n",
    "let parseGrid lines =\n",
    "    lines\n",
    "    |> Array.map (\n",
    "            Seq.map (\n",
    "                fun c ->\n",
    "                    match c with\n",
    "                    | 'E' -> 25\n",
    "                    | 'S' -> 0\n",
    "                    | _ -> int c - int 'a'\n",
    "            ) >> Array.ofSeq\n",
    "        )\n",
    "\n",
    "let positionOf ch lines =\n",
    "    lines\n",
    "    |> Array.indexed\n",
    "    |> Array.pick (\n",
    "        fun (r, l) ->\n",
    "            l \n",
    "            |> Seq.tryFindIndex ((=) ch)\n",
    "            |> Option.map (fun c -> (r,c))\n",
    "        )\n",
    "\n",
    "let startPos lines = lines |> positionOf 'S'\n",
    "let endPos lines = lines |> positionOf 'E'\n",
    "\n",
    "let possibleMoves (grid:int[][]) (r, c) =\n",
    "    let curAlt = grid[r][c]\n",
    "    let canClimb (r',c') = grid[r'][c'] - curAlt <= 1\n",
    "    let h = grid.Length\n",
    "    let w = grid[0].Length\n",
    "    [\n",
    "        if r > 0 then\n",
    "            (r-1,c)\n",
    "        if r < (h-1) then\n",
    "            (r+1, c)\n",
    "        if c > 0 then\n",
    "            (r,c-1)\n",
    "        if c < (w-1) then\n",
    "            (r, c+1)\n",
    "    ]\n",
    "    |> List.filter canClimb\n",
    "\n",
    "//let collectShorter (limit:int) (measure : 'u -> int) (f : int -> 't -> 'u list) (xs:'t list) : 'u list =\n",
    "//    xs\n",
    "//    |> List.scan (\n",
    "//        fun (limit,_) x -> \n",
    "//            let fxs : 'u list = f limit x\n",
    "//            let limit =\n",
    "//                match fxs with\n",
    "//                | [] -> limit\n",
    "//                | fxs -> fxs |> List.map measure |> List.min |> min limit\n",
    "//            (limit, fxs)\n",
    "//        ) (limit,[])\n",
    "//    |> List.map snd\n",
    "//    |> List.concat\n",
    "\n",
    "let walkPaths grid start dest =\n",
    "    let limit = ref Int32.MaxValue\n",
    "    let rec walk limit (pos, path) =\n",
    "        if pos = dest then\n",
    "            let length = Set.count path\n",
    "            if length < !limit then Interlocked.Exchange(limit,length) |> ignore\n",
    "            printfn \"Found a result %d\" length\n",
    "            [ path ]\n",
    "        else\n",
    "            if Set.count path >= !limit then\n",
    "                []\n",
    "            else\n",
    "                possibleMoves grid pos\n",
    "                |> List.filter (fun pm -> not (path |> Set.contains pm))\n",
    "                |> PSeq.map (fun pm -> pm, (Set.add pos path))\n",
    "                |> PSeq.collect (walk limit)\n",
    "                |> PSeq.toList\n",
    "    walk limit (start, Set.empty)"
   ]
  },
  {
   "cell_type": "code",
   "execution_count": null,
   "metadata": {
    "dotnet_interactive": {
     "language": "fsharp"
    },
    "polyglot_notebook": {
     "kernelName": "fsharp"
    }
   },
   "outputs": [
    {
     "data": {
      "text/html": [
       "<div><div></div><div></div><div><strong>Installed Packages</strong><ul><li><span>FsUnit, 5.1.0</span></li></ul></div></div>"
      ]
     },
     "metadata": {},
     "output_type": "display_data"
    }
   ],
   "source": [
    "#r \"nuget: FsUnit\"\n",
    "open FsUnitTyped\n",
    "\n",
    "let testInput = \n",
    "    [|\n",
    "        \"Sabqponm\"\n",
    "        \"abcryxxl\"\n",
    "        \"accszExk\"\n",
    "        \"acctuvwj\"\n",
    "        \"abdefghi\"\n",
    "    |]\n",
    "\n",
    "let testGrid = parseGrid testInput\n",
    "let testStart = startPos testInput\n",
    "let testEnd = endPos testInput\n",
    "\n",
    "testStart |> shouldEqual (0,0)\n",
    "testEnd |> shouldEqual (2,5)\n",
    "\n",
    "let walked = walkPaths testGrid testStart testEnd\n",
    "let shortest =\n",
    "    walked\n",
    "    |> List.minBy Set.count\n",
    "\n",
    "shortest.Count |> shouldEqual 31"
   ]
  },
  {
   "cell_type": "code",
   "execution_count": 9,
   "metadata": {
    "dotnet_interactive": {
     "language": "fsharp"
    },
    "polyglot_notebook": {
     "kernelName": "fsharp"
    }
   },
   "outputs": [
    {
     "ename": "Error",
     "evalue": "System.OperationCanceledException: Command :SubmitCode: open System.IO\r\n\r\nlet sourcePath = Path.Combine(__ ... cancelled.",
     "output_type": "error",
     "traceback": [
      "System.OperationCanceledException: Command :SubmitCode: open System.IO\r\n",
      "\r\n",
      "let sourcePath = Path.Combine(__ ... cancelled."
     ]
    }
   ],
   "source": [
    "open System.IO\n",
    "\n",
    "let sourcePath = Path.Combine(__SOURCE_DIRECTORY__, \"input_12.txt\")\n",
    "let lines = \n",
    "    File.ReadAllLines(sourcePath)\n",
    "\n",
    "let grid = parseGrid lines\n",
    "let start = startPos lines\n",
    "let ends = endPos lines\n",
    "\n",
    "let walked = walkPaths grid start ends\n",
    "let shortest =\n",
    "    walked\n",
    "    |> List.minBy Set.count\n",
    "\n",
    "let result = shortest.Count"
   ]
  },
  {
   "cell_type": "code",
   "execution_count": null,
   "metadata": {
    "dotnet_interactive": {
     "language": "fsharp"
    },
    "polyglot_notebook": {
     "kernelName": "fsharp"
    }
   },
   "outputs": [],
   "source": [
    "printfn \"Shortest path %d steps\" result"
   ]
  }
 ],
 "metadata": {
  "kernelspec": {
   "display_name": ".NET (C#)",
   "language": "C#",
   "name": ".net-csharp"
  },
  "polyglot_notebook": {
   "kernelInfo": {
    "defaultKernelName": "csharp",
    "items": [
     {
      "aliases": [],
      "name": "csharp"
     }
    ]
   }
  }
 },
 "nbformat": 4,
 "nbformat_minor": 2
}

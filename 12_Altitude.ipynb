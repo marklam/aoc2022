{
 "cells": [
  {
   "cell_type": "code",
   "execution_count": 1,
   "metadata": {
    "dotnet_interactive": {
     "language": "fsharp"
    },
    "polyglot_notebook": {
     "kernelName": "fsharp"
    }
   },
   "outputs": [],
   "source": [
    "let parseGrid lines =\n",
    "    lines\n",
    "    |> Array.map (\n",
    "            Seq.map (\n",
    "                fun c ->\n",
    "                    match c with\n",
    "                    | 'E' -> 25\n",
    "                    | 'S' -> 0\n",
    "                    | _ -> int c - int 'a'\n",
    "            ) >> Array.ofSeq\n",
    "        )\n",
    "\n",
    "let positionOf ch lines =\n",
    "    lines\n",
    "    |> Array.indexed\n",
    "    |> Array.pick (\n",
    "        fun (r, l) ->\n",
    "            l\n",
    "            |> Seq.tryFindIndex ((=) ch)\n",
    "            |> Option.map (fun c -> (r,c))\n",
    "        )\n",
    "\n",
    "let startPos lines = lines |> positionOf 'S'\n",
    "let endPos lines = lines |> positionOf 'E'\n",
    "\n",
    "let adjacentSquares (grid:_[][]) (r, c) =\n",
    "    let h = grid.Length\n",
    "    let w = grid[0].Length\n",
    "    [\n",
    "        if r > 0 then\n",
    "            (r-1,c)\n",
    "        if r < (h-1) then\n",
    "            (r+1, c)\n",
    "        if c > 0 then\n",
    "            (r,c-1)\n",
    "        if c < (w-1) then\n",
    "            (r, c+1)\n",
    "    ]\n",
    "\n",
    "let canClimb (grid : _[][]) (fromR, fromC) (toR, toC) =\n",
    "    grid[toR][toC] - grid[fromR][fromC] <= 1\n"
   ]
  },
  {
   "cell_type": "code",
   "execution_count": 2,
   "metadata": {
    "dotnet_interactive": {
     "language": "fsharp"
    },
    "polyglot_notebook": {
     "kernelName": "fsharp"
    }
   },
   "outputs": [],
   "source": [
    "type Position = int*int\n",
    "type Node = { CostF : int; DistanceFromStartG : int; EstimateToEndH : int; Previous : Position option }\n",
    "\n",
    "let astar getOutbound getEstimate endPos start =\n",
    "    let rec astar (openNodes : Map<Position,Node>) (closedNodes : Map<Position,Node>) =\n",
    "        let pos,node = openNodes |> Seq.minBy(fun kvp -> kvp.Value.CostF) |> (fun kvp -> kvp.Key, kvp.Value)\n",
    "\n",
    "        let newOpen = openNodes |> Map.remove pos\n",
    "        let newClosed = closedNodes |> Map.add pos node\n",
    "        if pos = endPos then\n",
    "            pos\n",
    "            |> List.unfold (fun p -> newClosed.[p].Previous |> Option.map (fun p -> p,p))\n",
    "            |> List.rev\n",
    "        else\n",
    "            let nextPositions =\n",
    "                getOutbound pos\n",
    "                |> Seq.filter (closedNodes.ContainsKey >> not)\n",
    "\n",
    "            let newOpen =\n",
    "                nextPositions\n",
    "                |> Seq.fold (\n",
    "                    fun newOpen childPos ->\n",
    "                        let childDistanceFromStartG = 1 + node.DistanceFromStartG\n",
    "                        let childEstimateToEndH     = getEstimate childPos endPos\n",
    "                        let childCostF              = childDistanceFromStartG  + childEstimateToEndH\n",
    "\n",
    "                        match Map.tryFind childPos newOpen with\n",
    "                        | Some n when n.DistanceFromStartG < childDistanceFromStartG ->\n",
    "                            newOpen\n",
    "                        | _ ->\n",
    "                            let childNode = { CostF = childCostF; DistanceFromStartG = childDistanceFromStartG; EstimateToEndH = childEstimateToEndH; Previous = Some pos }\n",
    "                            newOpen |> Map.add childPos childNode\n",
    "                ) newOpen\n",
    "\n",
    "            astar newOpen newClosed\n",
    "\n",
    "    let openNodes = (start, {CostF = 0; DistanceFromStartG = 0; EstimateToEndH = getEstimate start endPos; Previous = None}) |> Seq.singleton |> Map.ofSeq\n",
    "    astar (openNodes : Map<Position,Node>) Map.empty\n"
   ]
  },
  {
   "cell_type": "code",
   "execution_count": 4,
   "metadata": {
    "dotnet_interactive": {
     "language": "fsharp"
    },
    "polyglot_notebook": {
     "kernelName": "fsharp"
    }
   },
   "outputs": [],
   "source": [
    "let solver grid (startR, startC) (endR, endC) =\n",
    "    let getOutbound pos = adjacentSquares grid pos |> List.filter (canClimb grid pos)\n",
    "    let estimate (r,c) (endR, endC) = abs (r - endR) + abs (c - endC)\n",
    "    astar getOutbound estimate (endR, endC) (startR, startC)"
   ]
  },
  {
   "cell_type": "code",
   "execution_count": 5,
   "metadata": {
    "dotnet_interactive": {
     "language": "fsharp"
    },
    "polyglot_notebook": {
     "kernelName": "fsharp"
    }
   },
   "outputs": [
    {
     "data": {
      "text/html": [
       "<div><div></div><div></div><div><strong>Installed Packages</strong><ul><li><span>FsUnit, 5.1.0</span></li></ul></div></div>"
      ]
     },
     "metadata": {},
     "output_type": "display_data"
    }
   ],
   "source": [
    "#r \"nuget: FsUnit\"\n",
    "open FsUnitTyped\n",
    "\n",
    "let testInput = \n",
    "    [|\n",
    "        \"Sabqponm\"\n",
    "        \"abcryxxl\"\n",
    "        \"accszExk\"\n",
    "        \"acctuvwj\"\n",
    "        \"abdefghi\"\n",
    "    |]\n",
    "\n",
    "let testGrid = parseGrid testInput\n",
    "let testStart = startPos testInput\n",
    "let testEnd = endPos testInput\n",
    "\n",
    "testStart |> shouldEqual (0,0)\n",
    "testEnd |> shouldEqual (2,5)\n",
    "\n",
    "let shortest = solver testGrid testStart testEnd\n",
    "shortest |> List.length |> shouldEqual 31\n"
   ]
  },
  {
   "cell_type": "code",
   "execution_count": 7,
   "metadata": {
    "dotnet_interactive": {
     "language": "fsharp"
    },
    "polyglot_notebook": {
     "kernelName": "fsharp"
    }
   },
   "outputs": [],
   "source": [
    "open System.IO\n",
    "\n",
    "let sourcePath = Path.Combine(__SOURCE_DIRECTORY__, \"input_12.txt\")\n",
    "let lines = \n",
    "    File.ReadAllLines(sourcePath)\n",
    "\n",
    "let grid = parseGrid lines\n",
    "let start = startPos lines\n",
    "let ends = endPos lines\n",
    "\n",
    "let shortest = solver grid start ends |> List.length\n"
   ]
  },
  {
   "cell_type": "code",
   "execution_count": null,
   "metadata": {
    "dotnet_interactive": {
     "language": "fsharp"
    },
    "polyglot_notebook": {
     "kernelName": "fsharp"
    }
   },
   "outputs": [],
   "source": [
    "printfn \"Shortest path %d steps\" shortest"
   ]
  }
 ],
 "metadata": {
  "kernelspec": {
   "display_name": ".NET (C#)",
   "language": "C#",
   "name": ".net-csharp"
  },
  "polyglot_notebook": {
   "kernelInfo": {
    "defaultKernelName": "csharp",
    "items": [
     {
      "aliases": [],
      "name": "csharp"
     }
    ]
   }
  }
 },
 "nbformat": 4,
 "nbformat_minor": 2
}

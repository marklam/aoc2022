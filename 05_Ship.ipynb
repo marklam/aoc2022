{
 "cells": [
  {
   "cell_type": "code",
   "execution_count": 52,
   "metadata": {
    "dotnet_interactive": {
     "language": "fsharp"
    },
    "vscode": {
     "languageId": "dotnet-interactive.fsharp"
    }
   },
   "outputs": [],
   "source": [
    "module Map =\n",
    "    let mapValueAtKey f key map =\n",
    "        map\n",
    "        |> Map.map (\n",
    "            fun k v ->\n",
    "                if key = k then\n",
    "                    f v\n",
    "                else \n",
    "                    v\n",
    "            )\n",
    "\n",
    "module Stacks =\n",
    "    let init keys =\n",
    "        keys\n",
    "        |> Seq.map (fun k -> k, [])\n",
    "        |> Map.ofSeq\n",
    "    \n",
    "    let pushAt key value stacks =\n",
    "        stacks\n",
    "        |> Map.mapValueAtKey (fun s -> value::s) key\n",
    "\n",
    "    let popAt key stacks =\n",
    "        let popped = \n",
    "            stacks \n",
    "            |> Map.find key \n",
    "            |> List.head\n",
    "        \n",
    "        let rest =\n",
    "            stacks\n",
    "            |> Map.mapValueAtKey List.tail key\n",
    "        \n",
    "        (popped, rest)"
   ]
  },
  {
   "cell_type": "code",
   "execution_count": 77,
   "metadata": {
    "dotnet_interactive": {
     "language": "fsharp"
    },
    "polyglot_notebook": {
     "language": "fsharp"
    },
    "vscode": {
     "languageId": "dotnet-interactive.fsharp"
    }
   },
   "outputs": [
    {
     "data": {
      "text/html": [
       "<div><div></div><div></div><div><strong>Installed Packages</strong><ul><li><span>FSharp.Text.RegexProvider, 2.1.0</span></li></ul></div></div>"
      ]
     },
     "metadata": {},
     "output_type": "display_data"
    }
   ],
   "source": [
    "#r \"nuget: FSharp.Text.RegexProvider\"\n",
    "\n",
    "open System\n",
    "open FSharp.Text\n",
    "\n",
    "type Move = { Count : int; From : int; To : int }\n",
    "type MoveRegex = FSharp.Text.RegexProvider.Regex< @\"^move (?<Count>\\d+) from (?<From>\\d+) to (?<To>\\d+)$\" >\n",
    "type BoxRegex = FSharp.Text.RegexProvider.Regex< @\"^\\[(?<Contents>[A-Z])\\]?\" >\n",
    "let moveRegex = MoveRegex()\n",
    "let boxRegex = BoxRegex()\n",
    "\n",
    "let parseText (lines : string[]) =\n",
    "    let header =\n",
    "        lines \n",
    "        |> Seq.takeWhile (not << String.IsNullOrEmpty)\n",
    "        |> List.ofSeq\n",
    "        |> List.rev\n",
    "\n",
    "    let moves = \n",
    "        lines\n",
    "        |> Array.skip (header.Length + 1)\n",
    "        |> Array.map (\n",
    "            fun l -> \n",
    "                let m = moveRegex.TypedMatch l\n",
    "                { Count = int m.Count.Value; From = int m.From.Value; To = int m.To.Value }\n",
    "            )\n",
    "\n",
    "    let stackNames = \n",
    "        let labels = List.head header\n",
    "        labels.Split([|' '|], StringSplitOptions.RemoveEmptyEntries)\n",
    "        |> Array.map int\n",
    "\n",
    "    let stacks =\n",
    "        stackNames\n",
    "        |> Stacks.init\n",
    "\n",
    "    let boxes = \n",
    "        header\n",
    "        |> List.skip 1\n",
    "        |> Seq.collect (\n",
    "            fun row ->\n",
    "                (row :> char seq)\n",
    "                |> Seq.chunkBySize 4 \n",
    "                |> Seq.map String\n",
    "                |> Seq.zip stackNames\n",
    "                |> Seq.choose (fun (n, t) -> boxRegex.TryTypedMatch t |> Option.map (fun r -> n, r.Contents.Value[0]))\n",
    "            )\n",
    "    \n",
    "    let stacks =\n",
    "        boxes\n",
    "        |> Seq.fold (\n",
    "            fun s (k, v) ->\n",
    "                Stacks.pushAt k v s\n",
    "            ) stacks\n",
    "\n",
    "    stacks, moves\n",
    "\n",
    "let applyMove stacks (move : Move) =\n",
    "    [1 .. move.Count]\n",
    "    |> Seq.fold (\n",
    "        fun s _ ->\n",
    "            s\n",
    "            |> Stacks.popAt move.From\n",
    "            ||> Stacks.pushAt move.To\n",
    "        ) stacks\n",
    "\n",
    "let tops stacks =\n",
    "    stacks \n",
    "    |> Map.map (fun _ s -> Seq.head s)\n",
    "    |> Map.values\n",
    "    |> Array.ofSeq\n",
    "    |> String    \n"
   ]
  },
  {
   "cell_type": "code",
   "execution_count": 78,
   "metadata": {
    "dotnet_interactive": {
     "language": "fsharp"
    },
    "vscode": {
     "languageId": "dotnet-interactive.fsharp"
    }
   },
   "outputs": [
    {
     "data": {
      "text/html": [
       "<div><div></div><div></div><div><strong>Installed Packages</strong><ul><li><span>FsUnit, 5.1.0</span></li></ul></div></div>"
      ]
     },
     "metadata": {},
     "output_type": "display_data"
    }
   ],
   "source": [
    "#r \"nuget:FsUnit\"\n",
    "\n",
    "open FsUnitTyped\n",
    "\n",
    "let lines = \n",
    "    [|\n",
    "        \"    [D]    \"\n",
    "        \"[N] [C]    \"\n",
    "        \"[Z] [M] [P]\"\n",
    "        \" 1   2   3 \"\n",
    "        \"\"\n",
    "        \"move 1 from 2 to 1\"\n",
    "        \"move 3 from 1 to 3\"\n",
    "        \"move 2 from 2 to 1\"\n",
    "        \"move 1 from 1 to 2\"\n",
    "    |]\n",
    "\n",
    "let (stacks, moves) = parseText lines\n",
    "\n",
    "moves |> shouldEqual [| { Count = 1; From = 2; To = 1 }; { Count = 3; From = 1; To = 3 }; { Count = 2; From = 2; To = 1}; { Count = 1; From = 1; To = 2} |]\n",
    "stacks[1] |> List.ofSeq |> shouldEqual [ 'N'; 'Z' ]\n",
    "stacks[2] |> List.ofSeq |> shouldEqual [ 'D'; 'C'; 'M' ]\n",
    "stacks[3] |> List.ofSeq |> shouldEqual [ 'P' ]\n",
    "\n",
    "let stacks1 = applyMove stacks moves[0]\n",
    "stacks1[1] |> List.ofSeq |> shouldEqual [ 'D'; 'N'; 'Z' ]\n",
    "stacks1[2] |> List.ofSeq |> shouldEqual [ 'C'; 'M' ]\n",
    "stacks1[3] |> List.ofSeq |> shouldEqual [ 'P' ]\n",
    "\n",
    "let stacks2 = applyMove stacks1 moves[1]\n",
    "stacks2[1] |> List.ofSeq |> shouldEqual [ ]\n",
    "stacks2[2] |> List.ofSeq |> shouldEqual [ 'C'; 'M' ]\n",
    "stacks2[3] |> List.ofSeq |> shouldEqual [ 'Z'; 'N'; 'D'; 'P' ]\n"
   ]
  },
  {
   "cell_type": "code",
   "execution_count": 79,
   "metadata": {
    "dotnet_interactive": {
     "language": "fsharp"
    },
    "vscode": {
     "languageId": "dotnet-interactive.fsharp"
    }
   },
   "outputs": [],
   "source": [
    "open System.IO\n",
    "\n",
    "let sourcePath = Path.Combine(__SOURCE_DIRECTORY__, \"input_05.txt\")\n",
    "\n",
    "let (stacks, moves) = \n",
    "    File.ReadAllLines(sourcePath) \n",
    "    |> parseText\n",
    "\n",
    "let result = \n",
    "    moves\n",
    "    |> Array.fold applyMove stacks\n",
    "    |> tops"
   ]
  },
  {
   "cell_type": "code",
   "execution_count": null,
   "metadata": {
    "dotnet_interactive": {
     "language": "fsharp"
    },
    "vscode": {
     "languageId": "dotnet-interactive.fsharp"
    }
   },
   "outputs": [],
   "source": [
    "printfn \"Top boxes are %s\" result"
   ]
  },
  {
   "cell_type": "markdown",
   "metadata": {},
   "source": [
    "## Part 2"
   ]
  },
  {
   "cell_type": "code",
   "execution_count": 81,
   "metadata": {
    "dotnet_interactive": {
     "language": "fsharp"
    },
    "vscode": {
     "languageId": "dotnet-interactive.fsharp"
    }
   },
   "outputs": [],
   "source": [
    "let applyMove9001 stacks (move : Move) =\n",
    "    let steps = [1 .. move.Count]\n",
    "    let (craneHolds, stacks) = \n",
    "        steps\n",
    "        |> Seq.fold (\n",
    "            fun (c,s) _ ->\n",
    "                let (box, s') = Stacks.popAt move.From s\n",
    "                (box::c, s')\n",
    "            ) ([], stacks)\n",
    "\n",
    "    craneHolds\n",
    "    |> Seq.fold (\n",
    "        fun s box ->\n",
    "            Stacks.pushAt move.To box s\n",
    "        ) stacks\n",
    "\n",
    "let result = \n",
    "    moves\n",
    "    |> Array.fold applyMove9001 stacks\n",
    "    |> tops"
   ]
  },
  {
   "cell_type": "code",
   "execution_count": null,
   "metadata": {
    "dotnet_interactive": {
     "language": "fsharp"
    },
    "vscode": {
     "languageId": "dotnet-interactive.fsharp"
    }
   },
   "outputs": [],
   "source": [
    "printfn \"Top boxes are %s\" result"
   ]
  }
 ],
 "metadata": {
  "kernelspec": {
   "display_name": ".NET (F#)",
   "language": "F#",
   "name": ".net-fsharp"
  },
  "language_info": {
   "name": "F#"
  }
 },
 "nbformat": 4,
 "nbformat_minor": 2
}

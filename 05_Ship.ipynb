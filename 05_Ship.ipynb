{
 "cells": [
  {
   "cell_type": "code",
   "execution_count": 14,
   "metadata": {
    "dotnet_interactive": {
     "language": "fsharp"
    },
    "polyglot_notebook": {
     "language": "fsharp"
    },
    "vscode": {
     "languageId": "dotnet-interactive.fsharp"
    }
   },
   "outputs": [
    {
     "data": {
      "text/html": [
       "<div><div></div><div></div><div><strong>Installed Packages</strong><ul><li><span>FSharp.Text.RegexProvider, 2.1.0</span></li></ul></div></div>"
      ]
     },
     "metadata": {},
     "output_type": "display_data"
    }
   ],
   "source": [
    "#r \"nuget: FSharp.Text.RegexProvider\"\n",
    "\n",
    "open System\n",
    "open FSharp.Text\n",
    "open System.Collections.Concurrent\n",
    "\n",
    "type Move = { Count : int; From : int; To : int }\n",
    "type MoveRegex = FSharp.Text.RegexProvider.Regex< @\"^move (?<Count>\\d+) from (?<From>\\d+) to (?<To>\\d+)$\" >\n",
    "type BoxRegex = FSharp.Text.RegexProvider.Regex< @\"^\\[(?<Contents>[A-Z])\\]?\" >\n",
    "let moveRegex = MoveRegex()\n",
    "let boxRegex = BoxRegex()\n",
    "\n",
    "let parseText (lines : string[]) =\n",
    "    let header =\n",
    "        lines \n",
    "        |> Seq.takeWhile (not << String.IsNullOrEmpty)\n",
    "        |> List.ofSeq\n",
    "        |> List.rev\n",
    "\n",
    "    let moves = \n",
    "        lines\n",
    "        |> Array.skip (header.Length + 1)\n",
    "        |> Array.map (\n",
    "            fun l -> \n",
    "                let m = moveRegex.TypedMatch l\n",
    "                { Count = int m.Count.Value; From = int m.From.Value; To = int m.To.Value }\n",
    "            )\n",
    "\n",
    "    let stackNames = \n",
    "        let labels = List.head header\n",
    "        labels.Split([|' '|], StringSplitOptions.RemoveEmptyEntries)\n",
    "        |> Array.map int\n",
    "\n",
    "    let stacks =\n",
    "        stackNames\n",
    "        |> Array.map (fun name -> (name, ConcurrentStack()))\n",
    "        |> Map.ofArray\n",
    "\n",
    "    let boxes = \n",
    "        header\n",
    "        |> List.skip 1\n",
    "        |> Seq.collect (\n",
    "            fun row ->\n",
    "                (row :> char seq)\n",
    "                |> Seq.chunkBySize 4 \n",
    "                |> Seq.map String\n",
    "                |> Seq.zip stackNames\n",
    "                |> Seq.choose (fun (n, t) -> boxRegex.TryTypedMatch t |> Option.map (fun r -> n, r.Contents.Value[0]))\n",
    "            )\n",
    "    \n",
    "    for (stackLabel, contents) in boxes do\n",
    "        stacks[stackLabel].Push contents\n",
    "\n",
    "    stacks, moves\n"
   ]
  },
  {
   "cell_type": "code",
   "execution_count": 17,
   "metadata": {
    "dotnet_interactive": {
     "language": "fsharp"
    },
    "vscode": {
     "languageId": "dotnet-interactive.fsharp"
    }
   },
   "outputs": [
    {
     "data": {
      "text/html": [
       "<div><div></div><div></div><div><strong>Installed Packages</strong><ul><li><span>FsUnit, 5.1.0</span></li></ul></div></div>"
      ]
     },
     "metadata": {},
     "output_type": "display_data"
    }
   ],
   "source": [
    "#r \"nuget:FsUnit\"\n",
    "\n",
    "open FsUnitTyped\n",
    "\n",
    "let lines = \n",
    "    [|\n",
    "        \"    [D]    \"\n",
    "        \"[N] [C]    \"\n",
    "        \"[Z] [M] [P]\"\n",
    "        \" 1   2   3 \"\n",
    "        \"\"\n",
    "        \"move 1 from 2 to 1\"\n",
    "        \"move 2 from 2 to 1\"\n",
    "        \"move 1 from 1 to 2\"\n",
    "    |]\n",
    "\n",
    "let (stacks, moves) = parseText lines\n",
    "\n",
    "moves |> shouldEqual [| { Count = 1; From = 2; To = 1 }; { Count = 2; From = 2; To = 1}; { Count = 1; From = 1; To = 2} |]\n",
    "stacks[1] |> List.ofSeq |> shouldEqual [ 'N'; 'Z' ]\n",
    "stacks[2] |> List.ofSeq |> shouldEqual [ 'D'; 'C'; 'M' ]\n",
    "stacks[3] |> List.ofSeq |> shouldEqual [ 'P' ]"
   ]
  },
  {
   "cell_type": "code",
   "execution_count": 21,
   "metadata": {
    "dotnet_interactive": {
     "language": "fsharp"
    },
    "vscode": {
     "languageId": "dotnet-interactive.fsharp"
    }
   },
   "outputs": [],
   "source": [
    "let applyMove (stacks : Map<_, ConcurrentStack<_>>) (move : Move) =\n",
    "    for _ = 1 to move.Count do\n",
    "        match stacks[move.From].TryPop() with\n",
    "        | true, box -> stacks[move.To].Push box\n",
    "        | false, _ -> failwith \"Tried to move from empty stack\"\n",
    "\n",
    "let tops (stacks : Map<_, ConcurrentStack<_>>) =\n",
    "    stacks \n",
    "    |> Map.map (fun _ s -> Seq.head s)\n",
    "    |> Map.values\n",
    "    |> Array.ofSeq\n",
    "    |> String"
   ]
  },
  {
   "cell_type": "code",
   "execution_count": 24,
   "metadata": {
    "dotnet_interactive": {
     "language": "fsharp"
    },
    "vscode": {
     "languageId": "dotnet-interactive.fsharp"
    }
   },
   "outputs": [
    {
     "name": "stderr",
     "output_type": "stream",
     "text": [
      "Stopped due to error\n"
     ]
    },
    {
     "ename": "Error",
     "evalue": "input.fsx (10,15)-(10,21) typecheck error This expression was expected to have type\n    'Map<int,ConcurrentStack<obj>>'    \nbut here has type\n    'Move[]'    \ninput.fsx (10,22)-(10,26) typecheck error This expression was expected to have type\n    'Move'    \nbut here has type\n    'Collections.Generic.KeyValuePair<int,ConcurrentStack<char>>'    \ninput.fsx (14,8)-(14,12) typecheck error Type mismatch. Expecting a\n    'Move[] -> obj'    \nbut given a\n    'Map<'a,ConcurrentStack<char>> -> String'    \nThe type 'Move[]' does not match the type 'Map<'a,ConcurrentStack<char>>'",
     "output_type": "error",
     "traceback": [
      "input.fsx (10,15)-(10,21) typecheck error This expression was expected to have type\n",
      "    'Map<int,ConcurrentStack<obj>>'    \n",
      "but here has type\n",
      "    'Move[]'    \n",
      "input.fsx (10,22)-(10,26) typecheck error This expression was expected to have type\n",
      "    'Move'    \n",
      "but here has type\n",
      "    'Collections.Generic.KeyValuePair<int,ConcurrentStack<char>>'    \n",
      "input.fsx (14,8)-(14,12) typecheck error Type mismatch. Expecting a\n",
      "    'Move[] -> obj'    \n",
      "but given a\n",
      "    'Map<'a,ConcurrentStack<char>> -> String'    \n",
      "The type 'Move[]' does not match the type 'Map<'a,ConcurrentStack<char>>'"
     ]
    }
   ],
   "source": [
    "open System.IO\n",
    "\n",
    "let sourcePath = Path.Combine(__SOURCE_DIRECTORY__, \"input_05.txt\")\n",
    "\n",
    "let (stacks, moves) = \n",
    "    File.ReadAllLines(sourcePath) \n",
    "    |> parseText\n",
    "\n",
    "for move in moves do\n",
    "    applyMove stacks move\n",
    "\n",
    "let result = \n",
    "    stacks \n",
    "    |> tops"
   ]
  },
  {
   "cell_type": "code",
   "execution_count": 23,
   "metadata": {
    "dotnet_interactive": {
     "language": "fsharp"
    },
    "vscode": {
     "languageId": "dotnet-interactive.fsharp"
    }
   },
   "outputs": [
    {
     "name": "stdout",
     "output_type": "stream",
     "text": [
      "Top boxes are CMP\r\n"
     ]
    }
   ],
   "source": [
    "printfn \"Top boxes are %s\" result"
   ]
  }
 ],
 "metadata": {
  "kernelspec": {
   "display_name": ".NET (F#)",
   "language": "F#",
   "name": ".net-fsharp"
  },
  "language_info": {
   "name": "F#"
  }
 },
 "nbformat": 4,
 "nbformat_minor": 2
}
